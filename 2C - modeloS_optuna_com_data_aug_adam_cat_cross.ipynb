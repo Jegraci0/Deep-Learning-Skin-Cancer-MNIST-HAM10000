{
 "cells": [
  {
   "cell_type": "code",
   "execution_count": 1,
   "id": "6743fa08-2367-4cb7-b9a5-b123a4e34f73",
   "metadata": {},
   "outputs": [
    {
     "name": "stderr",
     "output_type": "stream",
     "text": [
      "2025-06-11 23:21:04.520766: E external/local_xla/xla/stream_executor/cuda/cuda_fft.cc:467] Unable to register cuFFT factory: Attempting to register factory for plugin cuFFT when one has already been registered\n",
      "WARNING: All log messages before absl::InitializeLog() is called are written to STDERR\n",
      "E0000 00:00:1749680464.534134   15362 cuda_dnn.cc:8579] Unable to register cuDNN factory: Attempting to register factory for plugin cuDNN when one has already been registered\n",
      "E0000 00:00:1749680464.538076   15362 cuda_blas.cc:1407] Unable to register cuBLAS factory: Attempting to register factory for plugin cuBLAS when one has already been registered\n",
      "W0000 00:00:1749680464.547928   15362 computation_placer.cc:177] computation placer already registered. Please check linkage and avoid linking the same target more than once.\n",
      "W0000 00:00:1749680464.547944   15362 computation_placer.cc:177] computation placer already registered. Please check linkage and avoid linking the same target more than once.\n",
      "W0000 00:00:1749680464.547945   15362 computation_placer.cc:177] computation placer already registered. Please check linkage and avoid linking the same target more than once.\n",
      "W0000 00:00:1749680464.547946   15362 computation_placer.cc:177] computation placer already registered. Please check linkage and avoid linking the same target more than once.\n",
      "2025-06-11 23:21:04.551293: I tensorflow/core/platform/cpu_feature_guard.cc:210] This TensorFlow binary is optimized to use available CPU instructions in performance-critical operations.\n",
      "To enable the following instructions: AVX2 FMA, in other operations, rebuild TensorFlow with the appropriate compiler flags.\n"
     ]
    }
   ],
   "source": [
    "import tensorflow as tf\n",
    "from tensorflow.keras import regularizers\n",
    "from tensorflow.keras.preprocessing.image import ImageDataGenerator\n",
    "from tensorflow import keras\n",
    "from keras import layers\n",
    "from keras import models\n",
    "from tensorflow.keras import optimizers\n",
    "from sklearn.metrics import classification_report\n",
    "from tensorflow.keras.callbacks import EarlyStopping, ModelCheckpoint\n",
    "import numpy as np"
   ]
  },
  {
   "cell_type": "code",
   "execution_count": 2,
   "id": "a63eb630-54a1-4dd9-8f8a-7e0d62939f50",
   "metadata": {},
   "outputs": [
    {
     "data": {
      "text/plain": [
       "'2.19.0'"
      ]
     },
     "execution_count": 2,
     "metadata": {},
     "output_type": "execute_result"
    }
   ],
   "source": [
    "tf.__version__"
   ]
  },
  {
   "cell_type": "markdown",
   "id": "32a08072-119f-4056-872f-6e5af3cbb4c8",
   "metadata": {},
   "source": [
    "# MODELO S - Optuna"
   ]
  },
  {
   "cell_type": "markdown",
   "id": "6c9a3e84",
   "metadata": {},
   "source": [
    "O presente notebook foi testado, numa segunda abordagem, com as configuraçoes obtidas pelo optuna "
   ]
  },
  {
   "cell_type": "markdown",
   "id": "d93659dd-a478-4eb2-aa2d-b630ac092ac0",
   "metadata": {},
   "source": [
    "## 1 - Data Preprocessing"
   ]
  },
  {
   "cell_type": "markdown",
   "id": "d0ea811d-2fab-4381-8d2e-fa0d7bd99fe1",
   "metadata": {},
   "source": [
    "Caminhos dos sets"
   ]
  },
  {
   "cell_type": "code",
   "execution_count": 3,
   "id": "d73a69de-6015-49b8-809f-2fe59d6f265f",
   "metadata": {},
   "outputs": [],
   "source": [
    "train_dir = 'dataset_balanceado_final/train'\n",
    "validation_dir = 'dataset_balanceado_final/validation'\n",
    "test_dir = 'dataset_balanceado_final/test'"
   ]
  },
  {
   "cell_type": "markdown",
   "id": "af04d1ea-3828-498b-ae05-4e5463acec2d",
   "metadata": {},
   "source": [
    "Definir batch_size e image_size"
   ]
  },
  {
   "cell_type": "code",
   "execution_count": 4,
   "id": "2cb9856e-e795-44d6-9330-37da2f155b87",
   "metadata": {},
   "outputs": [],
   "source": [
    "from tensorflow.keras.utils import image_dataset_from_directory\n",
    "\n",
    "IMG_SIZE = 150\n",
    "BATCH_SIZE = 32"
   ]
  },
  {
   "cell_type": "markdown",
   "id": "94895d6d-787c-4eca-bb47-6094349f486c",
   "metadata": {},
   "source": [
    "Training set -  É o conjunto de dados usado para treinar a rede"
   ]
  },
  {
   "cell_type": "code",
   "execution_count": 5,
   "id": "8b78d735-15eb-420a-9b40-b5fb5d4f1ef4",
   "metadata": {},
   "outputs": [
    {
     "name": "stdout",
     "output_type": "stream",
     "text": [
      "Found 4276 files belonging to 7 classes.\n"
     ]
    },
    {
     "name": "stderr",
     "output_type": "stream",
     "text": [
      "I0000 00:00:1749680466.967290   15362 gpu_device.cc:2019] Created device /job:localhost/replica:0/task:0/device:GPU:0 with 4804 MB memory:  -> device: 0, name: NVIDIA GeForce GTX 1660 SUPER, pci bus id: 0000:03:00.0, compute capability: 7.5\n",
      "I0000 00:00:1749680466.970832   15362 gpu_device.cc:2019] Created device /job:localhost/replica:0/task:0/device:GPU:1 with 4804 MB memory:  -> device: 1, name: NVIDIA GeForce GTX 1660 SUPER, pci bus id: 0000:05:00.0, compute capability: 7.5\n"
     ]
    }
   ],
   "source": [
    "train_dataset = image_dataset_from_directory(\n",
    "    train_dir,\n",
    "    image_size=(IMG_SIZE, IMG_SIZE),\n",
    "    batch_size=BATCH_SIZE,\n",
    "    label_mode='categorical' # categorical porque temos várias classes, senão seria binário (2 classes)\n",
    ")"
   ]
  },
  {
   "cell_type": "markdown",
   "id": "48aec4e8-e4cb-4a7f-b07c-dedfe4100494",
   "metadata": {},
   "source": [
    "Validation set - Usado para 'testar' o modelo durante o processo de procura da melhor combinação de hiperparâmetros."
   ]
  },
  {
   "cell_type": "code",
   "execution_count": 6,
   "id": "ce45eb16-bc85-461d-968d-5db88e88efb1",
   "metadata": {},
   "outputs": [
    {
     "name": "stdout",
     "output_type": "stream",
     "text": [
      "Found 1420 files belonging to 7 classes.\n"
     ]
    }
   ],
   "source": [
    "validation_dataset = image_dataset_from_directory(\n",
    "    validation_dir,\n",
    "    image_size=(IMG_SIZE, IMG_SIZE),\n",
    "    batch_size=BATCH_SIZE,\n",
    "    label_mode='categorical'\n",
    ")"
   ]
  },
  {
   "cell_type": "markdown",
   "id": "082d4f6e-762f-4e15-9b6d-e59b5ccf52cc",
   "metadata": {},
   "source": [
    "Test set - Usado para testar o modelo depois do processo de treino"
   ]
  },
  {
   "cell_type": "code",
   "execution_count": 7,
   "id": "94d01250-529d-4528-a3e0-b6d46003823e",
   "metadata": {},
   "outputs": [
    {
     "name": "stdout",
     "output_type": "stream",
     "text": [
      "Found 1420 files belonging to 7 classes.\n"
     ]
    }
   ],
   "source": [
    "test_dataset = image_dataset_from_directory(\n",
    "    test_dir,\n",
    "    image_size=(IMG_SIZE, IMG_SIZE),\n",
    "    batch_size=BATCH_SIZE,\n",
    "    label_mode='categorical'\n",
    ")"
   ]
  },
  {
   "cell_type": "markdown",
   "id": "f0e9581e-de38-4e11-b878-bc30e5b61d98",
   "metadata": {},
   "source": [
    "#### Data Augmentation \n",
    "\n",
    "Gerar mais dados de treino a partir de amostras de treino existentes, aumentando as amostras através de uma série de transformações aleatórias que produzem imagens com aspeto credível."
   ]
  },
  {
   "cell_type": "code",
   "execution_count": 8,
   "id": "452adb31-4a0d-4896-9f74-edf5ae795841",
   "metadata": {},
   "outputs": [],
   "source": [
    "data_augmentation = keras.Sequential([layers.RandomFlip(\"horizontal\"), # Efeito \"espelho\" a partir do eixo horizontal\n",
    "                                      layers.RandomRotation(0.1),               # Rotação até 10%\n",
    "                                      layers.RandomTranslation(0.1, 0.2),       # \"Deslocamento\" na largura (10%) e altura (20%)\n",
    "                                      layers.RandomFlip(\"vertical\"), # rotaçao de 10%\n",
    "                                      layers.RandomZoom(0.2),]) # rotação de 20% "
   ]
  },
  {
   "cell_type": "markdown",
   "id": "f90a81ba-8f80-4563-b995-0e04382fb69d",
   "metadata": {},
   "source": [
    "### Métricas para avaliar os modelos"
   ]
  },
  {
   "cell_type": "code",
   "execution_count": 9,
   "id": "81c08d43-c79f-433d-a237-9945e300bf7f",
   "metadata": {},
   "outputs": [],
   "source": [
    "# Utiliza uma função(do sckicit-learn) para avaliar o desempenho do modelo, indicando Métricas como: \n",
    "    # f1-score do modelo\n",
    "    # accuracy do modelo\n",
    "    # accuracy por classe \n",
    "\n",
    "from sklearn.metrics import classification_report\n",
    "import numpy as np\n",
    "\n",
    "def print_classification_metrics(model, dataset, phase_name):\n",
    "    y_true = []\n",
    "    y_pred = []\n",
    "\n",
    "    for images, labels in dataset:\n",
    "        preds = model.predict(images)\n",
    "        y_true.extend(np.argmax(labels.numpy(), axis=1))\n",
    "        y_pred.extend(np.argmax(preds, axis=1))\n",
    "\n",
    "    print(f\"\\n {phase_name}\")\n",
    "    print(classification_report(y_true, y_pred, digits=4))\n"
   ]
  },
  {
   "cell_type": "markdown",
   "id": "bc26dba7-c451-457d-8d4b-8ac3dec9a38e",
   "metadata": {},
   "source": [
    "## 2 - Construir a CNN (convolucional Neural Network) "
   ]
  },
  {
   "cell_type": "code",
   "execution_count": 10,
   "id": "22e49b20-4c59-4909-bb70-4238c5e7c9f9",
   "metadata": {},
   "outputs": [],
   "source": [
    "# Define a camada de entrada do modelo com o formato das imagens (altura, largura, 3 canais RGB).\n",
    "inputs = keras.Input(shape=(IMG_SIZE, IMG_SIZE, 3)) "
   ]
  },
  {
   "cell_type": "code",
   "execution_count": 11,
   "id": "5b3ec47d-589f-4591-a0b1-5bcaa41dee82",
   "metadata": {},
   "outputs": [],
   "source": [
    "#Aplica as transformações aleatórias às imagens (definidas no inicio do notebook) para aumentar a diversidade do dataset de treino e evitar overfitting.\n",
    "x = data_augmentation(inputs) "
   ]
  },
  {
   "cell_type": "code",
   "execution_count": 12,
   "id": "07a9af0d-384a-41ba-8bf8-078ab2b933fd",
   "metadata": {},
   "outputs": [],
   "source": [
    "# Normaliza os valores dos pixels das imagens de entrada para o intervalo [0, 1].\n",
    "x = layers.Rescaling(1./255)(x) "
   ]
  },
  {
   "cell_type": "markdown",
   "id": "5ec7bc90-1316-406f-bdd0-224001bd10af",
   "metadata": {},
   "source": [
    "### Passo 1 : Camada Convolucional"
   ]
  },
  {
   "cell_type": "code",
   "execution_count": 13,
   "id": "17106f6d-b9d5-498a-8c20-57ea5895c8fb",
   "metadata": {},
   "outputs": [],
   "source": [
    "# Primeira camada convolucional com 64 filtros 3x3 e ativação ReLU\n",
    "x = layers.Conv2D(filters=64, kernel_size=3, activation=\"relu\", padding=\"same\")(x) \n",
    "# adicionado o padding=\"same\" para garantir que o output da camada convolucional tem a mesma dimensão espacial (altura e largura) que o input, após a operação de convolução."
   ]
  },
  {
   "cell_type": "markdown",
   "id": "2c8bb941-854a-4b40-abce-dba331e2d0af",
   "metadata": {},
   "source": [
    "### Passo 2 : Camada de Pooling"
   ]
  },
  {
   "cell_type": "code",
   "execution_count": 14,
   "id": "b45240d6-7932-4223-9775-6bf12037b0a2",
   "metadata": {},
   "outputs": [],
   "source": [
    "# Primeira camada de pooling máximo (2x2) para reduzir a dimensionalidade.\n",
    "x = layers.MaxPooling2D(pool_size=2)(x)"
   ]
  },
  {
   "cell_type": "markdown",
   "id": "51dc68d6-5cae-42da-849c-cfe369b09a41",
   "metadata": {},
   "source": [
    "### Passo 3 : Adicionar mais camadas "
   ]
  },
  {
   "cell_type": "code",
   "execution_count": 15,
   "id": "b62253dc-3aa6-4575-8acb-bc169140390a",
   "metadata": {},
   "outputs": [],
   "source": [
    "# Segunda camada convolucional com 128 filtros 3x3 e ativação ReLU.\n",
    "x = layers.Conv2D(filters=128, kernel_size=3, activation=\"relu\", padding=\"same\")(x)\n",
    "# Segunda camada de pooling máximo (2x2).\n",
    "x = layers.MaxPooling2D(pool_size=2)(x)"
   ]
  },
  {
   "cell_type": "code",
   "execution_count": 16,
   "id": "f67a0ec4-0100-48c6-84d0-ddd046034b54",
   "metadata": {},
   "outputs": [],
   "source": [
    "# Terceira camada convolucional com 128 filtros 3x3 e ativação ReLU.\n",
    "x = layers.Conv2D(filters=128, kernel_size=3, activation=\"relu\", padding=\"same\")(x)\n",
    "# Terceira camada de pooling máximo (2x2).\n",
    "x = layers.MaxPooling2D(pool_size=2)(x)"
   ]
  },
  {
   "cell_type": "markdown",
   "id": "0d77df4c-8f91-4404-9ef4-43cfc710401e",
   "metadata": {},
   "source": [
    "### Passo 4 : Flattening "
   ]
  },
  {
   "cell_type": "code",
   "execution_count": 17,
   "id": "d021fcdd-1dc8-465c-a99e-4c206ff5c3bb",
   "metadata": {},
   "outputs": [],
   "source": [
    "# Achata o output das camadas convolucionais para um vetor 1D.\n",
    "x = layers.Flatten()(x)"
   ]
  },
  {
   "cell_type": "markdown",
   "id": "f3b4db63",
   "metadata": {},
   "source": [
    "BATCH NORMALIZATION  (Facultativo)"
   ]
  },
  {
   "cell_type": "code",
   "execution_count": 18,
   "id": "952beb31",
   "metadata": {},
   "outputs": [],
   "source": [
    "# tirar comentario desta linha abaixo se queremos usar batch normalization\n",
    "# porem foi testado varias vezes e em diferentes camadas da rede, mas não melhorou o desempenho do modelo (e o optuna tambem sugeriu nao utilizar)\n",
    "#x = layers.BatchNormalization( axis=-1, momentum=0.99, epsilon=0.001, center=True, scale=True,beta_initializer=\"zeros\",    moving_mean_initializer=\"zeros\", moving_variance_initializer=\"ones\")(x)"
   ]
  },
  {
   "cell_type": "markdown",
   "id": "0751a985-5b94-4d86-9927-4135e702e9ff",
   "metadata": {},
   "source": [
    "#### Dropout (optuna disse para não usar) - funçao de regularização"
   ]
  },
  {
   "cell_type": "code",
   "execution_count": 19,
   "id": "600d79d4-34d0-42f4-a7d1-65dfbed76654",
   "metadata": {},
   "outputs": [],
   "source": [
    "# Aplica Dropout (50%) para desativar aleatoriamente neurónios, prevenindo o overfitting.\n",
    "x = layers.Dropout(0.5)(x)"
   ]
  },
  {
   "cell_type": "markdown",
   "id": "75360c9b-5670-4341-b382-a1843d6a9940",
   "metadata": {},
   "source": [
    "### Passo 5 : Full Connection"
   ]
  },
  {
   "cell_type": "code",
   "execution_count": 20,
   "id": "03a5f800-011f-4b53-96a4-fb63098ce4e4",
   "metadata": {},
   "outputs": [],
   "source": [
    "# Definir funçao de Regularização L2 dada pelo optuna\n",
    "reg = regularizers.l2(0.00002426218)  # Executar para ativar\n",
    "\n",
    "# Camada densa (totalmente conectada) com 128 neurónios, ativação ReLU e funçao de regularizaçao L2\n",
    "x = layers.Dense(128, activation=\"relu\", kernel_regularizer=reg)(x)"
   ]
  },
  {
   "cell_type": "markdown",
   "id": "ca287815-1cb5-4755-b3f0-9ca20bf53f24",
   "metadata": {},
   "source": [
    "### Passo 6 : Output Layer"
   ]
  },
  {
   "cell_type": "code",
   "execution_count": 21,
   "id": "48094fda-a84a-40ed-aac1-c55db903b71f",
   "metadata": {},
   "outputs": [],
   "source": [
    "# Camada de saída densa com 7 neurónios e ativação Softmax (para classificação categórica).\n",
    "outputs = layers.Dense(7, activation=\"softmax\")(x) "
   ]
  },
  {
   "cell_type": "code",
   "execution_count": 22,
   "id": "7a55c088-528f-4988-ae7f-46082fa44fa2",
   "metadata": {},
   "outputs": [],
   "source": [
    "# Cria o modelo Keras usando as camadas de entrada e saída definidas.\n",
    "model = keras.Model(inputs=inputs, outputs=outputs)"
   ]
  },
  {
   "cell_type": "markdown",
   "id": "18d101bc-7c54-47a1-b832-738482968a94",
   "metadata": {},
   "source": [
    "## 3 - Treinar a rede CNN "
   ]
  },
  {
   "cell_type": "markdown",
   "id": "a06e0396",
   "metadata": {},
   "source": [
    "#### Funções de otimização disponíveis: Adam, RMSprop e SGD"
   ]
  },
  {
   "cell_type": "markdown",
   "id": "06f5f619-5401-493c-919a-51dff2b04807",
   "metadata": {},
   "source": [
    "#### Funções de loss disponíveis: categorical_crossentropy    ,    KLDivergence e MSE "
   ]
  },
  {
   "cell_type": "code",
   "execution_count": 23,
   "id": "708fb329",
   "metadata": {},
   "outputs": [],
   "source": [
    "# Configura o otimizador Adam com Learning rate de 0.001\n",
    "# Define a função de loss: Categorical_Crossentropy com label smoothing de 0.095\n",
    "# Indica que a 'accuracy' (precisão) será a métrica durante o treino.\n",
    "model.compile(\n",
    "    optimizer=tf.keras.optimizers.Adam(learning_rate=0.001),\n",
    "    loss=tf.keras.losses.CategoricalCrossentropy(label_smoothing=0.095),\n",
    "    metrics=['accuracy'])"
   ]
  },
  {
   "cell_type": "markdown",
   "id": "586275df-0662-4e89-9486-18c4d0354554",
   "metadata": {},
   "source": [
    "### Treinar o modelo"
   ]
  },
  {
   "cell_type": "code",
   "execution_count": null,
   "id": "3a105b5f",
   "metadata": {},
   "outputs": [
    {
     "name": "stdout",
     "output_type": "stream",
     "text": [
      "Epoch 1/100\n"
     ]
    },
    {
     "name": "stderr",
     "output_type": "stream",
     "text": [
      "I0000 00:00:1749680471.338111   15429 cuda_dnn.cc:529] Loaded cuDNN version 90300\n"
     ]
    },
    {
     "name": "stdout",
     "output_type": "stream",
     "text": [
      "\u001b[1m134/134\u001b[0m \u001b[32m━━━━━━━━━━━━━━━━━━━━\u001b[0m\u001b[37m\u001b[0m \u001b[1m15s\u001b[0m 81ms/step - accuracy: 0.1748 - loss: 2.0181 - val_accuracy: 0.2782 - val_loss: 1.7705\n",
      "Epoch 2/100\n",
      "\u001b[1m134/134\u001b[0m \u001b[32m━━━━━━━━━━━━━━━━━━━━\u001b[0m\u001b[37m\u001b[0m \u001b[1m10s\u001b[0m 75ms/step - accuracy: 0.3391 - loss: 1.7492 - val_accuracy: 0.4120 - val_loss: 1.5985\n",
      "Epoch 3/100\n",
      "\u001b[1m134/134\u001b[0m \u001b[32m━━━━━━━━━━━━━━━━━━━━\u001b[0m\u001b[37m\u001b[0m \u001b[1m10s\u001b[0m 75ms/step - accuracy: 0.4252 - loss: 1.5830 - val_accuracy: 0.4106 - val_loss: 1.5637\n",
      "Epoch 4/100\n",
      "\u001b[1m134/134\u001b[0m \u001b[32m━━━━━━━━━━━━━━━━━━━━\u001b[0m\u001b[37m\u001b[0m \u001b[1m10s\u001b[0m 75ms/step - accuracy: 0.4626 - loss: 1.5161 - val_accuracy: 0.4676 - val_loss: 1.4421\n",
      "Epoch 5/100\n",
      "\u001b[1m134/134\u001b[0m \u001b[32m━━━━━━━━━━━━━━━━━━━━\u001b[0m\u001b[37m\u001b[0m \u001b[1m10s\u001b[0m 75ms/step - accuracy: 0.5031 - loss: 1.4521 - val_accuracy: 0.5035 - val_loss: 1.4243\n",
      "Epoch 6/100\n",
      "\u001b[1m134/134\u001b[0m \u001b[32m━━━━━━━━━━━━━━━━━━━━\u001b[0m\u001b[37m\u001b[0m \u001b[1m10s\u001b[0m 75ms/step - accuracy: 0.5061 - loss: 1.4401 - val_accuracy: 0.5458 - val_loss: 1.3827\n",
      "Epoch 7/100\n",
      "\u001b[1m134/134\u001b[0m \u001b[32m━━━━━━━━━━━━━━━━━━━━\u001b[0m\u001b[37m\u001b[0m \u001b[1m10s\u001b[0m 75ms/step - accuracy: 0.5218 - loss: 1.3938 - val_accuracy: 0.5500 - val_loss: 1.3593\n",
      "Epoch 8/100\n",
      "\u001b[1m134/134\u001b[0m \u001b[32m━━━━━━━━━━━━━━━━━━━━\u001b[0m\u001b[37m\u001b[0m \u001b[1m10s\u001b[0m 75ms/step - accuracy: 0.5228 - loss: 1.4072 - val_accuracy: 0.4768 - val_loss: 1.4665\n",
      "Epoch 9/100\n",
      "\u001b[1m134/134\u001b[0m \u001b[32m━━━━━━━━━━━━━━━━━━━━\u001b[0m\u001b[37m\u001b[0m \u001b[1m10s\u001b[0m 75ms/step - accuracy: 0.5308 - loss: 1.3875 - val_accuracy: 0.5634 - val_loss: 1.3369\n",
      "Epoch 10/100\n",
      "\u001b[1m134/134\u001b[0m \u001b[32m━━━━━━━━━━━━━━━━━━━━\u001b[0m\u001b[37m\u001b[0m \u001b[1m10s\u001b[0m 75ms/step - accuracy: 0.5318 - loss: 1.3517 - val_accuracy: 0.5458 - val_loss: 1.3706\n",
      "Epoch 11/100\n",
      "\u001b[1m134/134\u001b[0m \u001b[32m━━━━━━━━━━━━━━━━━━━━\u001b[0m\u001b[37m\u001b[0m \u001b[1m10s\u001b[0m 75ms/step - accuracy: 0.5464 - loss: 1.3581 - val_accuracy: 0.5606 - val_loss: 1.3318\n",
      "Epoch 12/100\n",
      "\u001b[1m134/134\u001b[0m \u001b[32m━━━━━━━━━━━━━━━━━━━━\u001b[0m\u001b[37m\u001b[0m \u001b[1m10s\u001b[0m 75ms/step - accuracy: 0.5568 - loss: 1.3248 - val_accuracy: 0.5718 - val_loss: 1.3243\n",
      "Epoch 13/100\n",
      "\u001b[1m134/134\u001b[0m \u001b[32m━━━━━━━━━━━━━━━━━━━━\u001b[0m\u001b[37m\u001b[0m \u001b[1m10s\u001b[0m 75ms/step - accuracy: 0.5522 - loss: 1.3495 - val_accuracy: 0.5739 - val_loss: 1.3238\n",
      "Epoch 14/100\n",
      "\u001b[1m134/134\u001b[0m \u001b[32m━━━━━━━━━━━━━━━━━━━━\u001b[0m\u001b[37m\u001b[0m \u001b[1m10s\u001b[0m 75ms/step - accuracy: 0.5581 - loss: 1.3305 - val_accuracy: 0.6021 - val_loss: 1.2958\n",
      "Epoch 15/100\n",
      "\u001b[1m134/134\u001b[0m \u001b[32m━━━━━━━━━━━━━━━━━━━━\u001b[0m\u001b[37m\u001b[0m \u001b[1m10s\u001b[0m 75ms/step - accuracy: 0.5571 - loss: 1.3373 - val_accuracy: 0.5817 - val_loss: 1.2872\n",
      "Epoch 16/100\n",
      "\u001b[1m134/134\u001b[0m \u001b[32m━━━━━━━━━━━━━━━━━━━━\u001b[0m\u001b[37m\u001b[0m \u001b[1m10s\u001b[0m 75ms/step - accuracy: 0.5643 - loss: 1.3186 - val_accuracy: 0.5965 - val_loss: 1.2928\n",
      "Epoch 17/100\n",
      "\u001b[1m134/134\u001b[0m \u001b[32m━━━━━━━━━━━━━━━━━━━━\u001b[0m\u001b[37m\u001b[0m \u001b[1m10s\u001b[0m 75ms/step - accuracy: 0.5805 - loss: 1.2985 - val_accuracy: 0.5979 - val_loss: 1.2779\n",
      "Epoch 18/100\n",
      "\u001b[1m134/134\u001b[0m \u001b[32m━━━━━━━━━━━━━━━━━━━━\u001b[0m\u001b[37m\u001b[0m \u001b[1m10s\u001b[0m 75ms/step - accuracy: 0.5807 - loss: 1.2909 - val_accuracy: 0.5908 - val_loss: 1.2716\n",
      "Epoch 19/100\n",
      "\u001b[1m134/134\u001b[0m \u001b[32m━━━━━━━━━━━━━━━━━━━━\u001b[0m\u001b[37m\u001b[0m \u001b[1m10s\u001b[0m 75ms/step - accuracy: 0.5873 - loss: 1.2815 - val_accuracy: 0.6070 - val_loss: 1.2713\n",
      "Epoch 20/100\n",
      "\u001b[1m134/134\u001b[0m \u001b[32m━━━━━━━━━━━━━━━━━━━━\u001b[0m\u001b[37m\u001b[0m \u001b[1m10s\u001b[0m 75ms/step - accuracy: 0.5999 - loss: 1.2567 - val_accuracy: 0.5824 - val_loss: 1.2820\n",
      "Epoch 21/100\n",
      "\u001b[1m134/134\u001b[0m \u001b[32m━━━━━━━━━━━━━━━━━━━━\u001b[0m\u001b[37m\u001b[0m \u001b[1m10s\u001b[0m 75ms/step - accuracy: 0.5980 - loss: 1.2617 - val_accuracy: 0.6042 - val_loss: 1.2639\n",
      "Epoch 22/100\n",
      "\u001b[1m134/134\u001b[0m \u001b[32m━━━━━━━━━━━━━━━━━━━━\u001b[0m\u001b[37m\u001b[0m \u001b[1m10s\u001b[0m 75ms/step - accuracy: 0.5928 - loss: 1.2677 - val_accuracy: 0.6007 - val_loss: 1.2729\n",
      "Epoch 23/100\n",
      "\u001b[1m134/134\u001b[0m \u001b[32m━━━━━━━━━━━━━━━━━━━━\u001b[0m\u001b[37m\u001b[0m \u001b[1m10s\u001b[0m 75ms/step - accuracy: 0.6094 - loss: 1.2511 - val_accuracy: 0.6049 - val_loss: 1.2426\n",
      "Epoch 24/100\n",
      "\u001b[1m134/134\u001b[0m \u001b[32m━━━━━━━━━━━━━━━━━━━━\u001b[0m\u001b[37m\u001b[0m \u001b[1m10s\u001b[0m 75ms/step - accuracy: 0.6105 - loss: 1.2400 - val_accuracy: 0.6092 - val_loss: 1.2515\n",
      "Epoch 25/100\n",
      "\u001b[1m134/134\u001b[0m \u001b[32m━━━━━━━━━━━━━━━━━━━━\u001b[0m\u001b[37m\u001b[0m \u001b[1m10s\u001b[0m 75ms/step - accuracy: 0.6257 - loss: 1.2173 - val_accuracy: 0.6254 - val_loss: 1.2185\n",
      "Epoch 26/100\n",
      "\u001b[1m134/134\u001b[0m \u001b[32m━━━━━━━━━━━━━━━━━━━━\u001b[0m\u001b[37m\u001b[0m \u001b[1m10s\u001b[0m 75ms/step - accuracy: 0.6153 - loss: 1.2322 - val_accuracy: 0.6275 - val_loss: 1.2234\n",
      "Epoch 27/100\n",
      "\u001b[1m134/134\u001b[0m \u001b[32m━━━━━━━━━━━━━━━━━━━━\u001b[0m\u001b[37m\u001b[0m \u001b[1m10s\u001b[0m 75ms/step - accuracy: 0.6206 - loss: 1.2268 - val_accuracy: 0.6070 - val_loss: 1.2528\n",
      "Epoch 28/100\n",
      "\u001b[1m134/134\u001b[0m \u001b[32m━━━━━━━━━━━━━━━━━━━━\u001b[0m\u001b[37m\u001b[0m \u001b[1m10s\u001b[0m 75ms/step - accuracy: 0.6235 - loss: 1.2248 - val_accuracy: 0.6359 - val_loss: 1.2228\n",
      "Epoch 29/100\n",
      "\u001b[1m134/134\u001b[0m \u001b[32m━━━━━━━━━━━━━━━━━━━━\u001b[0m\u001b[37m\u001b[0m \u001b[1m10s\u001b[0m 75ms/step - accuracy: 0.6240 - loss: 1.2158 - val_accuracy: 0.5993 - val_loss: 1.3083\n",
      "Epoch 30/100\n",
      "\u001b[1m134/134\u001b[0m \u001b[32m━━━━━━━━━━━━━━━━━━━━\u001b[0m\u001b[37m\u001b[0m \u001b[1m10s\u001b[0m 75ms/step - accuracy: 0.6425 - loss: 1.2015 - val_accuracy: 0.6521 - val_loss: 1.1834\n",
      "Epoch 31/100\n",
      "\u001b[1m134/134\u001b[0m \u001b[32m━━━━━━━━━━━━━━━━━━━━\u001b[0m\u001b[37m\u001b[0m \u001b[1m10s\u001b[0m 75ms/step - accuracy: 0.6386 - loss: 1.2059 - val_accuracy: 0.5979 - val_loss: 1.2627\n",
      "Epoch 32/100\n",
      "\u001b[1m134/134\u001b[0m \u001b[32m━━━━━━━━━━━━━━━━━━━━\u001b[0m\u001b[37m\u001b[0m \u001b[1m10s\u001b[0m 75ms/step - accuracy: 0.6338 - loss: 1.2047 - val_accuracy: 0.6465 - val_loss: 1.2058\n",
      "Epoch 33/100\n",
      "\u001b[1m134/134\u001b[0m \u001b[32m━━━━━━━━━━━━━━━━━━━━\u001b[0m\u001b[37m\u001b[0m \u001b[1m10s\u001b[0m 75ms/step - accuracy: 0.6170 - loss: 1.2219 - val_accuracy: 0.6451 - val_loss: 1.2148\n",
      "Epoch 34/100\n",
      "\u001b[1m134/134\u001b[0m \u001b[32m━━━━━━━━━━━━━━━━━━━━\u001b[0m\u001b[37m\u001b[0m \u001b[1m10s\u001b[0m 76ms/step - accuracy: 0.6321 - loss: 1.2100 - val_accuracy: 0.6141 - val_loss: 1.2400\n",
      "Epoch 35/100\n",
      "\u001b[1m134/134\u001b[0m \u001b[32m━━━━━━━━━━━━━━━━━━━━\u001b[0m\u001b[37m\u001b[0m \u001b[1m10s\u001b[0m 76ms/step - accuracy: 0.6495 - loss: 1.1978 - val_accuracy: 0.6394 - val_loss: 1.2274\n",
      "Epoch 36/100\n",
      "\u001b[1m134/134\u001b[0m \u001b[32m━━━━━━━━━━━━━━━━━━━━\u001b[0m\u001b[37m\u001b[0m \u001b[1m10s\u001b[0m 75ms/step - accuracy: 0.6363 - loss: 1.1933 - val_accuracy: 0.6437 - val_loss: 1.1966\n",
      "Epoch 37/100\n",
      "\u001b[1m134/134\u001b[0m \u001b[32m━━━━━━━━━━━━━━━━━━━━\u001b[0m\u001b[37m\u001b[0m \u001b[1m10s\u001b[0m 76ms/step - accuracy: 0.6475 - loss: 1.1891 - val_accuracy: 0.5965 - val_loss: 1.2918\n",
      "Epoch 38/100\n",
      "\u001b[1m134/134\u001b[0m \u001b[32m━━━━━━━━━━━━━━━━━━━━\u001b[0m\u001b[37m\u001b[0m \u001b[1m10s\u001b[0m 76ms/step - accuracy: 0.6354 - loss: 1.2030 - val_accuracy: 0.6549 - val_loss: 1.1831\n",
      "Epoch 39/100\n",
      "\u001b[1m134/134\u001b[0m \u001b[32m━━━━━━━━━━━━━━━━━━━━\u001b[0m\u001b[37m\u001b[0m \u001b[1m10s\u001b[0m 76ms/step - accuracy: 0.6594 - loss: 1.1837 - val_accuracy: 0.6394 - val_loss: 1.2312\n",
      "Epoch 40/100\n",
      "\u001b[1m134/134\u001b[0m \u001b[32m━━━━━━━━━━━━━━━━━━━━\u001b[0m\u001b[37m\u001b[0m \u001b[1m10s\u001b[0m 76ms/step - accuracy: 0.6556 - loss: 1.1970 - val_accuracy: 0.6648 - val_loss: 1.1855\n",
      "Epoch 41/100\n",
      "\u001b[1m134/134\u001b[0m \u001b[32m━━━━━━━━━━━━━━━━━━━━\u001b[0m\u001b[37m\u001b[0m \u001b[1m10s\u001b[0m 76ms/step - accuracy: 0.6590 - loss: 1.1661 - val_accuracy: 0.6599 - val_loss: 1.2110\n",
      "Epoch 42/100\n",
      "\u001b[1m134/134\u001b[0m \u001b[32m━━━━━━━━━━━━━━━━━━━━\u001b[0m\u001b[37m\u001b[0m \u001b[1m10s\u001b[0m 76ms/step - accuracy: 0.6434 - loss: 1.1821 - val_accuracy: 0.6775 - val_loss: 1.1814\n",
      "Epoch 43/100\n",
      "\u001b[1m134/134\u001b[0m \u001b[32m━━━━━━━━━━━━━━━━━━━━\u001b[0m\u001b[37m\u001b[0m \u001b[1m10s\u001b[0m 76ms/step - accuracy: 0.6592 - loss: 1.1757 - val_accuracy: 0.6838 - val_loss: 1.1587\n",
      "Epoch 44/100\n",
      "\u001b[1m134/134\u001b[0m \u001b[32m━━━━━━━━━━━━━━━━━━━━\u001b[0m\u001b[37m\u001b[0m \u001b[1m10s\u001b[0m 76ms/step - accuracy: 0.6682 - loss: 1.1512 - val_accuracy: 0.6655 - val_loss: 1.2150\n",
      "Epoch 45/100\n",
      "\u001b[1m134/134\u001b[0m \u001b[32m━━━━━━━━━━━━━━━━━━━━\u001b[0m\u001b[37m\u001b[0m \u001b[1m10s\u001b[0m 76ms/step - accuracy: 0.6679 - loss: 1.1551 - val_accuracy: 0.6500 - val_loss: 1.2279\n",
      "Epoch 46/100\n",
      "\u001b[1m134/134\u001b[0m \u001b[32m━━━━━━━━━━━━━━━━━━━━\u001b[0m\u001b[37m\u001b[0m \u001b[1m10s\u001b[0m 76ms/step - accuracy: 0.6791 - loss: 1.1419 - val_accuracy: 0.6739 - val_loss: 1.1616\n",
      "Epoch 47/100\n",
      "\u001b[1m134/134\u001b[0m \u001b[32m━━━━━━━━━━━━━━━━━━━━\u001b[0m\u001b[37m\u001b[0m \u001b[1m10s\u001b[0m 76ms/step - accuracy: 0.6695 - loss: 1.1627 - val_accuracy: 0.6887 - val_loss: 1.1709\n",
      "Epoch 48/100\n",
      "\u001b[1m134/134\u001b[0m \u001b[32m━━━━━━━━━━━━━━━━━━━━\u001b[0m\u001b[37m\u001b[0m \u001b[1m10s\u001b[0m 76ms/step - accuracy: 0.6564 - loss: 1.1748 - val_accuracy: 0.6725 - val_loss: 1.1905\n",
      "Epoch 49/100\n",
      "\u001b[1m134/134\u001b[0m \u001b[32m━━━━━━━━━━━━━━━━━━━━\u001b[0m\u001b[37m\u001b[0m \u001b[1m10s\u001b[0m 76ms/step - accuracy: 0.6796 - loss: 1.1693 - val_accuracy: 0.6683 - val_loss: 1.2044\n",
      "Epoch 50/100\n",
      "\u001b[1m134/134\u001b[0m \u001b[32m━━━━━━━━━━━━━━━━━━━━\u001b[0m\u001b[37m\u001b[0m \u001b[1m10s\u001b[0m 76ms/step - accuracy: 0.6880 - loss: 1.1456 - val_accuracy: 0.6521 - val_loss: 1.2240\n",
      "Epoch 51/100\n",
      "\u001b[1m134/134\u001b[0m \u001b[32m━━━━━━━━━━━━━━━━━━━━\u001b[0m\u001b[37m\u001b[0m \u001b[1m10s\u001b[0m 76ms/step - accuracy: 0.6753 - loss: 1.1631 - val_accuracy: 0.6930 - val_loss: 1.1706\n",
      "Epoch 52/100\n",
      "\u001b[1m134/134\u001b[0m \u001b[32m━━━━━━━━━━━━━━━━━━━━\u001b[0m\u001b[37m\u001b[0m \u001b[1m10s\u001b[0m 76ms/step - accuracy: 0.6605 - loss: 1.1686 - val_accuracy: 0.6908 - val_loss: 1.1512\n",
      "Epoch 53/100\n",
      "\u001b[1m134/134\u001b[0m \u001b[32m━━━━━━━━━━━━━━━━━━━━\u001b[0m\u001b[37m\u001b[0m \u001b[1m10s\u001b[0m 76ms/step - accuracy: 0.6930 - loss: 1.1304 - val_accuracy: 0.6754 - val_loss: 1.1759\n",
      "Epoch 54/100\n",
      "\u001b[1m134/134\u001b[0m \u001b[32m━━━━━━━━━━━━━━━━━━━━\u001b[0m\u001b[37m\u001b[0m \u001b[1m10s\u001b[0m 76ms/step - accuracy: 0.6862 - loss: 1.1500 - val_accuracy: 0.6718 - val_loss: 1.1785\n",
      "Epoch 55/100\n",
      "\u001b[1m134/134\u001b[0m \u001b[32m━━━━━━━━━━━━━━━━━━━━\u001b[0m\u001b[37m\u001b[0m \u001b[1m10s\u001b[0m 76ms/step - accuracy: 0.6954 - loss: 1.1204 - val_accuracy: 0.6887 - val_loss: 1.1691\n",
      "Epoch 56/100\n",
      "\u001b[1m134/134\u001b[0m \u001b[32m━━━━━━━━━━━━━━━━━━━━\u001b[0m\u001b[37m\u001b[0m \u001b[1m10s\u001b[0m 76ms/step - accuracy: 0.6879 - loss: 1.1361 - val_accuracy: 0.6746 - val_loss: 1.1915\n",
      "Epoch 57/100\n",
      "\u001b[1m134/134\u001b[0m \u001b[32m━━━━━━━━━━━━━━━━━━━━\u001b[0m\u001b[37m\u001b[0m \u001b[1m10s\u001b[0m 76ms/step - accuracy: 0.6845 - loss: 1.1407 - val_accuracy: 0.6796 - val_loss: 1.1783\n",
      "Epoch 58/100\n",
      "\u001b[1m134/134\u001b[0m \u001b[32m━━━━━━━━━━━━━━━━━━━━\u001b[0m\u001b[37m\u001b[0m \u001b[1m10s\u001b[0m 76ms/step - accuracy: 0.7066 - loss: 1.1148 - val_accuracy: 0.6930 - val_loss: 1.1503\n",
      "Epoch 59/100\n",
      "\u001b[1m134/134\u001b[0m \u001b[32m━━━━━━━━━━━━━━━━━━━━\u001b[0m\u001b[37m\u001b[0m \u001b[1m10s\u001b[0m 76ms/step - accuracy: 0.7081 - loss: 1.1269 - val_accuracy: 0.6993 - val_loss: 1.1605\n",
      "Epoch 60/100\n",
      "\u001b[1m134/134\u001b[0m \u001b[32m━━━━━━━━━━━━━━━━━━━━\u001b[0m\u001b[37m\u001b[0m \u001b[1m10s\u001b[0m 76ms/step - accuracy: 0.6917 - loss: 1.1193 - val_accuracy: 0.6831 - val_loss: 1.1800\n",
      "Epoch 61/100\n",
      "\u001b[1m134/134\u001b[0m \u001b[32m━━━━━━━━━━━━━━━━━━━━\u001b[0m\u001b[37m\u001b[0m \u001b[1m10s\u001b[0m 76ms/step - accuracy: 0.6855 - loss: 1.1436 - val_accuracy: 0.6887 - val_loss: 1.1632\n",
      "Epoch 62/100\n",
      "\u001b[1m134/134\u001b[0m \u001b[32m━━━━━━━━━━━━━━━━━━━━\u001b[0m\u001b[37m\u001b[0m \u001b[1m10s\u001b[0m 76ms/step - accuracy: 0.7031 - loss: 1.1100 - val_accuracy: 0.6930 - val_loss: 1.1473\n",
      "Epoch 63/100\n",
      "\u001b[1m134/134\u001b[0m \u001b[32m━━━━━━━━━━━━━━━━━━━━\u001b[0m\u001b[37m\u001b[0m \u001b[1m10s\u001b[0m 76ms/step - accuracy: 0.7150 - loss: 1.1021 - val_accuracy: 0.6662 - val_loss: 1.2047\n",
      "Epoch 64/100\n",
      "\u001b[1m134/134\u001b[0m \u001b[32m━━━━━━━━━━━━━━━━━━━━\u001b[0m\u001b[37m\u001b[0m \u001b[1m10s\u001b[0m 76ms/step - accuracy: 0.7134 - loss: 1.1109 - val_accuracy: 0.6944 - val_loss: 1.1584\n",
      "Epoch 65/100\n",
      "\u001b[1m134/134\u001b[0m \u001b[32m━━━━━━━━━━━━━━━━━━━━\u001b[0m\u001b[37m\u001b[0m \u001b[1m10s\u001b[0m 76ms/step - accuracy: 0.7119 - loss: 1.1157 - val_accuracy: 0.6782 - val_loss: 1.1821\n",
      "Epoch 66/100\n",
      "\u001b[1m134/134\u001b[0m \u001b[32m━━━━━━━━━━━━━━━━━━━━\u001b[0m\u001b[37m\u001b[0m \u001b[1m10s\u001b[0m 76ms/step - accuracy: 0.7087 - loss: 1.1146 - val_accuracy: 0.6901 - val_loss: 1.1649\n",
      "Epoch 67/100\n",
      "\u001b[1m134/134\u001b[0m \u001b[32m━━━━━━━━━━━━━━━━━━━━\u001b[0m\u001b[37m\u001b[0m \u001b[1m10s\u001b[0m 76ms/step - accuracy: 0.7119 - loss: 1.1010 - val_accuracy: 0.6915 - val_loss: 1.1663\n",
      "Epoch 68/100\n",
      "\u001b[1m134/134\u001b[0m \u001b[32m━━━━━━━━━━━━━━━━━━━━\u001b[0m\u001b[37m\u001b[0m \u001b[1m10s\u001b[0m 76ms/step - accuracy: 0.7026 - loss: 1.1073 - val_accuracy: 0.7092 - val_loss: 1.1285\n",
      "Epoch 69/100\n",
      "\u001b[1m134/134\u001b[0m \u001b[32m━━━━━━━━━━━━━━━━━━━━\u001b[0m\u001b[37m\u001b[0m \u001b[1m10s\u001b[0m 76ms/step - accuracy: 0.7089 - loss: 1.1034 - val_accuracy: 0.6704 - val_loss: 1.2017\n",
      "Epoch 70/100\n",
      "\u001b[1m134/134\u001b[0m \u001b[32m━━━━━━━━━━━━━━━━━━━━\u001b[0m\u001b[37m\u001b[0m \u001b[1m10s\u001b[0m 76ms/step - accuracy: 0.7046 - loss: 1.1256 - val_accuracy: 0.7141 - val_loss: 1.1351\n",
      "Epoch 71/100\n",
      "\u001b[1m134/134\u001b[0m \u001b[32m━━━━━━━━━━━━━━━━━━━━\u001b[0m\u001b[37m\u001b[0m \u001b[1m10s\u001b[0m 76ms/step - accuracy: 0.7121 - loss: 1.1014 - val_accuracy: 0.7148 - val_loss: 1.1266\n",
      "Epoch 72/100\n",
      "\u001b[1m134/134\u001b[0m \u001b[32m━━━━━━━━━━━━━━━━━━━━\u001b[0m\u001b[37m\u001b[0m \u001b[1m10s\u001b[0m 76ms/step - accuracy: 0.6988 - loss: 1.1108 - val_accuracy: 0.7092 - val_loss: 1.1421\n",
      "Epoch 73/100\n",
      "\u001b[1m134/134\u001b[0m \u001b[32m━━━━━━━━━━━━━━━━━━━━\u001b[0m\u001b[37m\u001b[0m \u001b[1m10s\u001b[0m 76ms/step - accuracy: 0.7202 - loss: 1.1019 - val_accuracy: 0.6894 - val_loss: 1.1971\n",
      "Epoch 74/100\n",
      "\u001b[1m134/134\u001b[0m \u001b[32m━━━━━━━━━━━━━━━━━━━━\u001b[0m\u001b[37m\u001b[0m \u001b[1m10s\u001b[0m 76ms/step - accuracy: 0.7127 - loss: 1.1073 - val_accuracy: 0.6923 - val_loss: 1.1692\n",
      "Epoch 75/100\n",
      "\u001b[1m134/134\u001b[0m \u001b[32m━━━━━━━━━━━━━━━━━━━━\u001b[0m\u001b[37m\u001b[0m \u001b[1m10s\u001b[0m 76ms/step - accuracy: 0.7108 - loss: 1.1019 - val_accuracy: 0.7085 - val_loss: 1.1196\n",
      "Epoch 76/100\n",
      "\u001b[1m134/134\u001b[0m \u001b[32m━━━━━━━━━━━━━━━━━━━━\u001b[0m\u001b[37m\u001b[0m \u001b[1m10s\u001b[0m 76ms/step - accuracy: 0.7009 - loss: 1.0935 - val_accuracy: 0.6915 - val_loss: 1.1916\n",
      "Epoch 77/100\n",
      "\u001b[1m134/134\u001b[0m \u001b[32m━━━━━━━━━━━━━━━━━━━━\u001b[0m\u001b[37m\u001b[0m \u001b[1m10s\u001b[0m 76ms/step - accuracy: 0.7150 - loss: 1.0960 - val_accuracy: 0.7113 - val_loss: 1.1245\n",
      "Epoch 78/100\n",
      "\u001b[1m134/134\u001b[0m \u001b[32m━━━━━━━━━━━━━━━━━━━━\u001b[0m\u001b[37m\u001b[0m \u001b[1m10s\u001b[0m 76ms/step - accuracy: 0.7117 - loss: 1.0911 - val_accuracy: 0.6880 - val_loss: 1.1849\n",
      "Epoch 79/100\n",
      "\u001b[1m134/134\u001b[0m \u001b[32m━━━━━━━━━━━━━━━━━━━━\u001b[0m\u001b[37m\u001b[0m \u001b[1m10s\u001b[0m 76ms/step - accuracy: 0.7095 - loss: 1.0970 - val_accuracy: 0.7007 - val_loss: 1.1471\n",
      "Epoch 80/100\n",
      "\u001b[1m134/134\u001b[0m \u001b[32m━━━━━━━━━━━━━━━━━━━━\u001b[0m\u001b[37m\u001b[0m \u001b[1m10s\u001b[0m 76ms/step - accuracy: 0.7226 - loss: 1.0791 - val_accuracy: 0.7049 - val_loss: 1.1348\n",
      "Epoch 81/100\n",
      "\u001b[1m134/134\u001b[0m \u001b[32m━━━━━━━━━━━━━━━━━━━━\u001b[0m\u001b[37m\u001b[0m \u001b[1m10s\u001b[0m 76ms/step - accuracy: 0.7356 - loss: 1.0672 - val_accuracy: 0.7070 - val_loss: 1.1377\n",
      "Epoch 82/100\n",
      "\u001b[1m134/134\u001b[0m \u001b[32m━━━━━━━━━━━━━━━━━━━━\u001b[0m\u001b[37m\u001b[0m \u001b[1m10s\u001b[0m 76ms/step - accuracy: 0.7312 - loss: 1.0692 - val_accuracy: 0.6704 - val_loss: 1.1812\n",
      "Epoch 83/100\n",
      "\u001b[1m134/134\u001b[0m \u001b[32m━━━━━━━━━━━━━━━━━━━━\u001b[0m\u001b[37m\u001b[0m \u001b[1m10s\u001b[0m 76ms/step - accuracy: 0.7281 - loss: 1.0852 - val_accuracy: 0.6894 - val_loss: 1.1922\n",
      "Epoch 84/100\n",
      "\u001b[1m134/134\u001b[0m \u001b[32m━━━━━━━━━━━━━━━━━━━━\u001b[0m\u001b[37m\u001b[0m \u001b[1m10s\u001b[0m 76ms/step - accuracy: 0.7324 - loss: 1.0706 - val_accuracy: 0.6845 - val_loss: 1.1902\n",
      "Epoch 85/100\n",
      "\u001b[1m134/134\u001b[0m \u001b[32m━━━━━━━━━━━━━━━━━━━━\u001b[0m\u001b[37m\u001b[0m \u001b[1m10s\u001b[0m 76ms/step - accuracy: 0.7136 - loss: 1.0872 - val_accuracy: 0.7014 - val_loss: 1.1579\n",
      "Epoch 86/100\n",
      "\u001b[1m134/134\u001b[0m \u001b[32m━━━━━━━━━━━━━━━━━━━━\u001b[0m\u001b[37m\u001b[0m \u001b[1m10s\u001b[0m 76ms/step - accuracy: 0.7259 - loss: 1.0738 - val_accuracy: 0.7183 - val_loss: 1.1384\n",
      "Epoch 87/100\n",
      "\u001b[1m134/134\u001b[0m \u001b[32m━━━━━━━━━━━━━━━━━━━━\u001b[0m\u001b[37m\u001b[0m \u001b[1m10s\u001b[0m 76ms/step - accuracy: 0.7328 - loss: 1.0762 - val_accuracy: 0.7070 - val_loss: 1.1374\n",
      "Epoch 88/100\n",
      "\u001b[1m134/134\u001b[0m \u001b[32m━━━━━━━━━━━━━━━━━━━━\u001b[0m\u001b[37m\u001b[0m \u001b[1m10s\u001b[0m 76ms/step - accuracy: 0.7316 - loss: 1.0678 - val_accuracy: 0.7021 - val_loss: 1.1637\n",
      "Epoch 89/100\n",
      "\u001b[1m134/134\u001b[0m \u001b[32m━━━━━━━━━━━━━━━━━━━━\u001b[0m\u001b[37m\u001b[0m \u001b[1m10s\u001b[0m 76ms/step - accuracy: 0.7241 - loss: 1.0811 - val_accuracy: 0.7148 - val_loss: 1.1379\n",
      "Epoch 90/100\n",
      "\u001b[1m134/134\u001b[0m \u001b[32m━━━━━━━━━━━━━━━━━━━━\u001b[0m\u001b[37m\u001b[0m \u001b[1m10s\u001b[0m 76ms/step - accuracy: 0.7211 - loss: 1.0976 - val_accuracy: 0.6852 - val_loss: 1.1960\n",
      "Epoch 91/100\n",
      "\u001b[1m134/134\u001b[0m \u001b[32m━━━━━━━━━━━━━━━━━━━━\u001b[0m\u001b[37m\u001b[0m \u001b[1m10s\u001b[0m 76ms/step - accuracy: 0.7287 - loss: 1.0831 - val_accuracy: 0.7021 - val_loss: 1.1529\n",
      "Epoch 92/100\n",
      "\u001b[1m134/134\u001b[0m \u001b[32m━━━━━━━━━━━━━━━━━━━━\u001b[0m\u001b[37m\u001b[0m \u001b[1m10s\u001b[0m 76ms/step - accuracy: 0.7253 - loss: 1.0875 - val_accuracy: 0.6845 - val_loss: 1.1971\n",
      "Epoch 93/100\n",
      "\u001b[1m134/134\u001b[0m \u001b[32m━━━━━━━━━━━━━━━━━━━━\u001b[0m\u001b[37m\u001b[0m \u001b[1m10s\u001b[0m 76ms/step - accuracy: 0.7259 - loss: 1.0765 - val_accuracy: 0.7113 - val_loss: 1.1364\n",
      "Epoch 94/100\n",
      "\u001b[1m134/134\u001b[0m \u001b[32m━━━━━━━━━━━━━━━━━━━━\u001b[0m\u001b[37m\u001b[0m \u001b[1m10s\u001b[0m 76ms/step - accuracy: 0.7251 - loss: 1.0769 - val_accuracy: 0.7063 - val_loss: 1.1537\n",
      "Epoch 95/100\n",
      "\u001b[1m134/134\u001b[0m \u001b[32m━━━━━━━━━━━━━━━━━━━━\u001b[0m\u001b[37m\u001b[0m \u001b[1m10s\u001b[0m 76ms/step - accuracy: 0.7413 - loss: 1.0630 - val_accuracy: 0.6930 - val_loss: 1.1774\n",
      "Epoch 96/100\n",
      "\u001b[1m134/134\u001b[0m \u001b[32m━━━━━━━━━━━━━━━━━━━━\u001b[0m\u001b[37m\u001b[0m \u001b[1m10s\u001b[0m 76ms/step - accuracy: 0.7440 - loss: 1.0644 - val_accuracy: 0.7134 - val_loss: 1.1474\n",
      "Epoch 97/100\n",
      "\u001b[1m134/134\u001b[0m \u001b[32m━━━━━━━━━━━━━━━━━━━━\u001b[0m\u001b[37m\u001b[0m \u001b[1m10s\u001b[0m 76ms/step - accuracy: 0.7258 - loss: 1.0715 - val_accuracy: 0.7014 - val_loss: 1.1705\n",
      "Epoch 98/100\n",
      "\u001b[1m134/134\u001b[0m \u001b[32m━━━━━━━━━━━━━━━━━━━━\u001b[0m\u001b[37m\u001b[0m \u001b[1m10s\u001b[0m 76ms/step - accuracy: 0.7459 - loss: 1.0593 - val_accuracy: 0.7000 - val_loss: 1.1623\n",
      "Epoch 99/100\n",
      "\u001b[1m134/134\u001b[0m \u001b[32m━━━━━━━━━━━━━━━━━━━━\u001b[0m\u001b[37m\u001b[0m \u001b[1m10s\u001b[0m 76ms/step - accuracy: 0.7518 - loss: 1.0428 - val_accuracy: 0.7014 - val_loss: 1.1733\n",
      "Epoch 100/100\n",
      "\u001b[1m134/134\u001b[0m \u001b[32m━━━━━━━━━━━━━━━━━━━━\u001b[0m\u001b[37m\u001b[0m \u001b[1m10s\u001b[0m 76ms/step - accuracy: 0.7338 - loss: 1.0658 - val_accuracy: 0.7021 - val_loss: 1.1522\n"
     ]
    }
   ],
   "source": [
    "#utilizar early stopping -> o modelo pára de treinar se a accuracy nao subir durante 5 épocas seguidas (patience = 5)\n",
    "callbacks = [\n",
    "    EarlyStopping(monitor='val_loss', patience=5, restore_best_weights=True),\n",
    "    ModelCheckpoint(filepath='models/melhor_modelo.h5', save_best_only=True, monitor='val_loss')\n",
    "]\n",
    "\n",
    "history = model.fit(\n",
    "    train_dataset, #Inicia o treino do modelo usando o conjunto de dados de treino.\n",
    "    epochs=100,  # Apesar de ter um numero alto aqui, o EarlyStopping para automaticamente\n",
    "    validation_data=validation_dataset # Usa o conjunto de dados de validação para monitorizar o desempenho do modelo em dados não vistos durante o treino.\n",
    "    #,callbacks=callbacks\n",
    ")"
   ]
  },
  {
   "cell_type": "markdown",
   "id": "6c5140ab-de0b-4cc4-bdde-b1cb08a365ac",
   "metadata": {},
   "source": [
    "## 4 - Testar o modelo"
   ]
  },
  {
   "cell_type": "code",
   "execution_count": 25,
   "id": "f834d88a-789c-4f7d-a898-5c9fa4eb6fe8",
   "metadata": {},
   "outputs": [
    {
     "name": "stdout",
     "output_type": "stream",
     "text": [
      "\u001b[1m1/1\u001b[0m \u001b[32m━━━━━━━━━━━━━━━━━━━━\u001b[0m\u001b[37m\u001b[0m \u001b[1m0s\u001b[0m 104ms/step\n",
      "\u001b[1m1/1\u001b[0m \u001b[32m━━━━━━━━━━━━━━━━━━━━\u001b[0m\u001b[37m\u001b[0m \u001b[1m0s\u001b[0m 54ms/step\n",
      "\u001b[1m1/1\u001b[0m \u001b[32m━━━━━━━━━━━━━━━━━━━━\u001b[0m\u001b[37m\u001b[0m \u001b[1m0s\u001b[0m 55ms/step\n",
      "\u001b[1m1/1\u001b[0m \u001b[32m━━━━━━━━━━━━━━━━━━━━\u001b[0m\u001b[37m\u001b[0m \u001b[1m0s\u001b[0m 55ms/step\n",
      "\u001b[1m1/1\u001b[0m \u001b[32m━━━━━━━━━━━━━━━━━━━━\u001b[0m\u001b[37m\u001b[0m \u001b[1m0s\u001b[0m 54ms/step\n",
      "\u001b[1m1/1\u001b[0m \u001b[32m━━━━━━━━━━━━━━━━━━━━\u001b[0m\u001b[37m\u001b[0m \u001b[1m0s\u001b[0m 55ms/step\n",
      "\u001b[1m1/1\u001b[0m \u001b[32m━━━━━━━━━━━━━━━━━━━━\u001b[0m\u001b[37m\u001b[0m \u001b[1m0s\u001b[0m 55ms/step\n",
      "\u001b[1m1/1\u001b[0m \u001b[32m━━━━━━━━━━━━━━━━━━━━\u001b[0m\u001b[37m\u001b[0m \u001b[1m0s\u001b[0m 54ms/step\n",
      "\u001b[1m1/1\u001b[0m \u001b[32m━━━━━━━━━━━━━━━━━━━━\u001b[0m\u001b[37m\u001b[0m \u001b[1m0s\u001b[0m 56ms/step\n",
      "\u001b[1m1/1\u001b[0m \u001b[32m━━━━━━━━━━━━━━━━━━━━\u001b[0m\u001b[37m\u001b[0m \u001b[1m0s\u001b[0m 54ms/step\n",
      "\u001b[1m1/1\u001b[0m \u001b[32m━━━━━━━━━━━━━━━━━━━━\u001b[0m\u001b[37m\u001b[0m \u001b[1m0s\u001b[0m 56ms/step\n",
      "\u001b[1m1/1\u001b[0m \u001b[32m━━━━━━━━━━━━━━━━━━━━\u001b[0m\u001b[37m\u001b[0m \u001b[1m0s\u001b[0m 56ms/step\n",
      "\u001b[1m1/1\u001b[0m \u001b[32m━━━━━━━━━━━━━━━━━━━━\u001b[0m\u001b[37m\u001b[0m \u001b[1m0s\u001b[0m 54ms/step\n",
      "\u001b[1m1/1\u001b[0m \u001b[32m━━━━━━━━━━━━━━━━━━━━\u001b[0m\u001b[37m\u001b[0m \u001b[1m0s\u001b[0m 54ms/step\n",
      "\u001b[1m1/1\u001b[0m \u001b[32m━━━━━━━━━━━━━━━━━━━━\u001b[0m\u001b[37m\u001b[0m \u001b[1m0s\u001b[0m 54ms/step\n",
      "\u001b[1m1/1\u001b[0m \u001b[32m━━━━━━━━━━━━━━━━━━━━\u001b[0m\u001b[37m\u001b[0m \u001b[1m0s\u001b[0m 54ms/step\n",
      "\u001b[1m1/1\u001b[0m \u001b[32m━━━━━━━━━━━━━━━━━━━━\u001b[0m\u001b[37m\u001b[0m \u001b[1m0s\u001b[0m 54ms/step\n",
      "\u001b[1m1/1\u001b[0m \u001b[32m━━━━━━━━━━━━━━━━━━━━\u001b[0m\u001b[37m\u001b[0m \u001b[1m0s\u001b[0m 54ms/step\n",
      "\u001b[1m1/1\u001b[0m \u001b[32m━━━━━━━━━━━━━━━━━━━━\u001b[0m\u001b[37m\u001b[0m \u001b[1m0s\u001b[0m 54ms/step\n",
      "\u001b[1m1/1\u001b[0m \u001b[32m━━━━━━━━━━━━━━━━━━━━\u001b[0m\u001b[37m\u001b[0m \u001b[1m0s\u001b[0m 56ms/step\n",
      "\u001b[1m1/1\u001b[0m \u001b[32m━━━━━━━━━━━━━━━━━━━━\u001b[0m\u001b[37m\u001b[0m \u001b[1m0s\u001b[0m 55ms/step\n",
      "\u001b[1m1/1\u001b[0m \u001b[32m━━━━━━━━━━━━━━━━━━━━\u001b[0m\u001b[37m\u001b[0m \u001b[1m0s\u001b[0m 54ms/step\n",
      "\u001b[1m1/1\u001b[0m \u001b[32m━━━━━━━━━━━━━━━━━━━━\u001b[0m\u001b[37m\u001b[0m \u001b[1m0s\u001b[0m 55ms/step\n",
      "\u001b[1m1/1\u001b[0m \u001b[32m━━━━━━━━━━━━━━━━━━━━\u001b[0m\u001b[37m\u001b[0m \u001b[1m0s\u001b[0m 55ms/step\n",
      "\u001b[1m1/1\u001b[0m \u001b[32m━━━━━━━━━━━━━━━━━━━━\u001b[0m\u001b[37m\u001b[0m \u001b[1m0s\u001b[0m 56ms/step\n",
      "\u001b[1m1/1\u001b[0m \u001b[32m━━━━━━━━━━━━━━━━━━━━\u001b[0m\u001b[37m\u001b[0m \u001b[1m0s\u001b[0m 54ms/step\n",
      "\u001b[1m1/1\u001b[0m \u001b[32m━━━━━━━━━━━━━━━━━━━━\u001b[0m\u001b[37m\u001b[0m \u001b[1m0s\u001b[0m 54ms/step\n",
      "\u001b[1m1/1\u001b[0m \u001b[32m━━━━━━━━━━━━━━━━━━━━\u001b[0m\u001b[37m\u001b[0m \u001b[1m0s\u001b[0m 54ms/step\n",
      "\u001b[1m1/1\u001b[0m \u001b[32m━━━━━━━━━━━━━━━━━━━━\u001b[0m\u001b[37m\u001b[0m \u001b[1m0s\u001b[0m 54ms/step\n",
      "\u001b[1m1/1\u001b[0m \u001b[32m━━━━━━━━━━━━━━━━━━━━\u001b[0m\u001b[37m\u001b[0m \u001b[1m0s\u001b[0m 54ms/step\n",
      "\u001b[1m1/1\u001b[0m \u001b[32m━━━━━━━━━━━━━━━━━━━━\u001b[0m\u001b[37m\u001b[0m \u001b[1m0s\u001b[0m 54ms/step\n",
      "\u001b[1m1/1\u001b[0m \u001b[32m━━━━━━━━━━━━━━━━━━━━\u001b[0m\u001b[37m\u001b[0m \u001b[1m0s\u001b[0m 54ms/step\n",
      "\u001b[1m1/1\u001b[0m \u001b[32m━━━━━━━━━━━━━━━━━━━━\u001b[0m\u001b[37m\u001b[0m \u001b[1m0s\u001b[0m 54ms/step\n",
      "\u001b[1m1/1\u001b[0m \u001b[32m━━━━━━━━━━━━━━━━━━━━\u001b[0m\u001b[37m\u001b[0m \u001b[1m0s\u001b[0m 54ms/step\n",
      "\u001b[1m1/1\u001b[0m \u001b[32m━━━━━━━━━━━━━━━━━━━━\u001b[0m\u001b[37m\u001b[0m \u001b[1m0s\u001b[0m 55ms/step\n",
      "\u001b[1m1/1\u001b[0m \u001b[32m━━━━━━━━━━━━━━━━━━━━\u001b[0m\u001b[37m\u001b[0m \u001b[1m0s\u001b[0m 55ms/step\n",
      "\u001b[1m1/1\u001b[0m \u001b[32m━━━━━━━━━━━━━━━━━━━━\u001b[0m\u001b[37m\u001b[0m \u001b[1m0s\u001b[0m 54ms/step\n",
      "\u001b[1m1/1\u001b[0m \u001b[32m━━━━━━━━━━━━━━━━━━━━\u001b[0m\u001b[37m\u001b[0m \u001b[1m0s\u001b[0m 55ms/step\n",
      "\u001b[1m1/1\u001b[0m \u001b[32m━━━━━━━━━━━━━━━━━━━━\u001b[0m\u001b[37m\u001b[0m \u001b[1m0s\u001b[0m 54ms/step\n",
      "\u001b[1m1/1\u001b[0m \u001b[32m━━━━━━━━━━━━━━━━━━━━\u001b[0m\u001b[37m\u001b[0m \u001b[1m0s\u001b[0m 54ms/step\n",
      "\u001b[1m1/1\u001b[0m \u001b[32m━━━━━━━━━━━━━━━━━━━━\u001b[0m\u001b[37m\u001b[0m \u001b[1m0s\u001b[0m 54ms/step\n",
      "\u001b[1m1/1\u001b[0m \u001b[32m━━━━━━━━━━━━━━━━━━━━\u001b[0m\u001b[37m\u001b[0m \u001b[1m0s\u001b[0m 54ms/step\n",
      "\u001b[1m1/1\u001b[0m \u001b[32m━━━━━━━━━━━━━━━━━━━━\u001b[0m\u001b[37m\u001b[0m \u001b[1m0s\u001b[0m 54ms/step\n",
      "\u001b[1m1/1\u001b[0m \u001b[32m━━━━━━━━━━━━━━━━━━━━\u001b[0m\u001b[37m\u001b[0m \u001b[1m0s\u001b[0m 54ms/step\n",
      "\u001b[1m1/1\u001b[0m \u001b[32m━━━━━━━━━━━━━━━━━━━━\u001b[0m\u001b[37m\u001b[0m \u001b[1m0s\u001b[0m 85ms/step\n",
      "\n",
      " Modelo 1 : CNN de raiz\n",
      "              precision    recall  f1-score   support\n",
      "\n",
      "           0     0.5694    0.6308    0.5985       195\n",
      "           1     0.6923    0.5455    0.6102       198\n",
      "           2     0.6172    0.5890    0.6028       219\n",
      "           3     0.7336    0.8750    0.7981       192\n",
      "           4     0.5826    0.6351    0.6078       222\n",
      "           5     0.7733    0.6650    0.7151       200\n",
      "           6     0.9592    0.9691    0.9641       194\n",
      "\n",
      "    accuracy                         0.6972      1420\n",
      "   macro avg     0.7040    0.7014    0.6995      1420\n",
      "weighted avg     0.7002    0.6972    0.6956      1420\n",
      "\n"
     ]
    },
    {
     "name": "stderr",
     "output_type": "stream",
     "text": [
      "2025-06-11 23:38:11.586496: I tensorflow/core/framework/local_rendezvous.cc:407] Local rendezvous is aborting with status: OUT_OF_RANGE: End of sequence\n"
     ]
    }
   ],
   "source": [
    "print_classification_metrics(model, test_dataset, \"Modelo 1 : CNN de raiz\")"
   ]
  },
  {
   "cell_type": "markdown",
   "id": "b04ddfca",
   "metadata": {},
   "source": [
    "### Curvas de Loss e de Accuracy"
   ]
  },
  {
   "cell_type": "code",
   "execution_count": 26,
   "id": "fe44bf35",
   "metadata": {},
   "outputs": [
    {
     "data": {
      "image/png": "[encoded data removed]",
      "text/plain": [
       "<Figure size 640x480 with 1 Axes>"
      ]
     },
     "metadata": {},
     "output_type": "display_data"
    },
    {
     "data": {
      "image/png": "[encoded data removed]",
      "text/plain": [
       "<Figure size 640x480 with 1 Axes>"
      ]
     },
     "metadata": {},
     "output_type": "display_data"
    }
   ],
   "source": [
    "import matplotlib.pyplot as plt\n",
    "accuracy = history.history['accuracy']\n",
    "val_acc = history.history['val_accuracy']\n",
    "loss = history.history['loss']\n",
    "val_loss = history.history['val_loss']\n",
    "epochs = range(1, len(accuracy) + 1)\n",
    "plt.plot(epochs, accuracy, 'bo', label='Training acc')\n",
    "plt.plot(epochs, val_acc, 'b', label='Validation acc')\n",
    "plt.title('Training and validation accuracy')\n",
    "plt.legend()\n",
    "plt.figure()\n",
    "plt.plot(epochs, loss, 'bo', label='Training loss')\n",
    "plt.plot(epochs, val_loss, 'b', label='Validation loss')\n",
    "plt.title('Training and validation loss')\n",
    "plt.legend()\n",
    "plt.show()"
   ]
  },
  {
   "cell_type": "markdown",
   "id": "3ad98d27",
   "metadata": {},
   "source": [
    "A acurácia de treino e validação aumentam de forma consistente ao longo das épocas, com valores próximos e sem grande divergência, o que indica um bom ajuste do modelo sem sinais claros de overfitting.\n",
    "\n",
    "As curvas de loss de treino e validação diminuem gradualmente, mantendo-se próximas e estáveis ao longo do tempo. Isso mostra que o modelo está a aprender de forma eficiente e generaliza bem para os dados de validação.\n"
   ]
  },
  {
   "cell_type": "markdown",
   "id": "f728b5d5-b633-4963-b7d3-4362b983dfbf",
   "metadata": {},
   "source": [
    "### Matriz de Confusão"
   ]
  },
  {
   "cell_type": "code",
   "execution_count": 27,
   "id": "5a26dbe9",
   "metadata": {},
   "outputs": [
    {
     "name": "stdout",
     "output_type": "stream",
     "text": [
      "\u001b[1m1/1\u001b[0m \u001b[32m━━━━━━━━━━━━━━━━━━━━\u001b[0m\u001b[37m\u001b[0m \u001b[1m0s\u001b[0m 60ms/step\n",
      "\u001b[1m1/1\u001b[0m \u001b[32m━━━━━━━━━━━━━━━━━━━━\u001b[0m\u001b[37m\u001b[0m \u001b[1m0s\u001b[0m 55ms/step\n",
      "\u001b[1m1/1\u001b[0m \u001b[32m━━━━━━━━━━━━━━━━━━━━\u001b[0m\u001b[37m\u001b[0m \u001b[1m0s\u001b[0m 55ms/step\n",
      "\u001b[1m1/1\u001b[0m \u001b[32m━━━━━━━━━━━━━━━━━━━━\u001b[0m\u001b[37m\u001b[0m \u001b[1m0s\u001b[0m 55ms/step\n",
      "\u001b[1m1/1\u001b[0m \u001b[32m━━━━━━━━━━━━━━━━━━━━\u001b[0m\u001b[37m\u001b[0m \u001b[1m0s\u001b[0m 54ms/step\n",
      "\u001b[1m1/1\u001b[0m \u001b[32m━━━━━━━━━━━━━━━━━━━━\u001b[0m\u001b[37m\u001b[0m \u001b[1m0s\u001b[0m 54ms/step\n",
      "\u001b[1m1/1\u001b[0m \u001b[32m━━━━━━━━━━━━━━━━━━━━\u001b[0m\u001b[37m\u001b[0m \u001b[1m0s\u001b[0m 54ms/step\n",
      "\u001b[1m1/1\u001b[0m \u001b[32m━━━━━━━━━━━━━━━━━━━━\u001b[0m\u001b[37m\u001b[0m \u001b[1m0s\u001b[0m 54ms/step\n",
      "\u001b[1m1/1\u001b[0m \u001b[32m━━━━━━━━━━━━━━━━━━━━\u001b[0m\u001b[37m\u001b[0m \u001b[1m0s\u001b[0m 54ms/step\n",
      "\u001b[1m1/1\u001b[0m \u001b[32m━━━━━━━━━━━━━━━━━━━━\u001b[0m\u001b[37m\u001b[0m \u001b[1m0s\u001b[0m 54ms/step\n",
      "\u001b[1m1/1\u001b[0m \u001b[32m━━━━━━━━━━━━━━━━━━━━\u001b[0m\u001b[37m\u001b[0m \u001b[1m0s\u001b[0m 55ms/step\n",
      "\u001b[1m1/1\u001b[0m \u001b[32m━━━━━━━━━━━━━━━━━━━━\u001b[0m\u001b[37m\u001b[0m \u001b[1m0s\u001b[0m 56ms/step\n",
      "\u001b[1m1/1\u001b[0m \u001b[32m━━━━━━━━━━━━━━━━━━━━\u001b[0m\u001b[37m\u001b[0m \u001b[1m0s\u001b[0m 55ms/step\n",
      "\u001b[1m1/1\u001b[0m \u001b[32m━━━━━━━━━━━━━━━━━━━━\u001b[0m\u001b[37m\u001b[0m \u001b[1m0s\u001b[0m 55ms/step\n",
      "\u001b[1m1/1\u001b[0m \u001b[32m━━━━━━━━━━━━━━━━━━━━\u001b[0m\u001b[37m\u001b[0m \u001b[1m0s\u001b[0m 54ms/step\n",
      "\u001b[1m1/1\u001b[0m \u001b[32m━━━━━━━━━━━━━━━━━━━━\u001b[0m\u001b[37m\u001b[0m \u001b[1m0s\u001b[0m 54ms/step\n",
      "\u001b[1m1/1\u001b[0m \u001b[32m━━━━━━━━━━━━━━━━━━━━\u001b[0m\u001b[37m\u001b[0m \u001b[1m0s\u001b[0m 54ms/step\n",
      "\u001b[1m1/1\u001b[0m \u001b[32m━━━━━━━━━━━━━━━━━━━━\u001b[0m\u001b[37m\u001b[0m \u001b[1m0s\u001b[0m 54ms/step\n",
      "\u001b[1m1/1\u001b[0m \u001b[32m━━━━━━━━━━━━━━━━━━━━\u001b[0m\u001b[37m\u001b[0m \u001b[1m0s\u001b[0m 54ms/step\n",
      "\u001b[1m1/1\u001b[0m \u001b[32m━━━━━━━━━━━━━━━━━━━━\u001b[0m\u001b[37m\u001b[0m \u001b[1m0s\u001b[0m 54ms/step\n",
      "\u001b[1m1/1\u001b[0m \u001b[32m━━━━━━━━━━━━━━━━━━━━\u001b[0m\u001b[37m\u001b[0m \u001b[1m0s\u001b[0m 54ms/step\n",
      "\u001b[1m1/1\u001b[0m \u001b[32m━━━━━━━━━━━━━━━━━━━━\u001b[0m\u001b[37m\u001b[0m \u001b[1m0s\u001b[0m 54ms/step\n",
      "\u001b[1m1/1\u001b[0m \u001b[32m━━━━━━━━━━━━━━━━━━━━\u001b[0m\u001b[37m\u001b[0m \u001b[1m0s\u001b[0m 55ms/step\n",
      "\u001b[1m1/1\u001b[0m \u001b[32m━━━━━━━━━━━━━━━━━━━━\u001b[0m\u001b[37m\u001b[0m \u001b[1m0s\u001b[0m 55ms/step\n",
      "\u001b[1m1/1\u001b[0m \u001b[32m━━━━━━━━━━━━━━━━━━━━\u001b[0m\u001b[37m\u001b[0m \u001b[1m0s\u001b[0m 55ms/step\n",
      "\u001b[1m1/1\u001b[0m \u001b[32m━━━━━━━━━━━━━━━━━━━━\u001b[0m\u001b[37m\u001b[0m \u001b[1m0s\u001b[0m 55ms/step\n",
      "\u001b[1m1/1\u001b[0m \u001b[32m━━━━━━━━━━━━━━━━━━━━\u001b[0m\u001b[37m\u001b[0m \u001b[1m0s\u001b[0m 58ms/step\n",
      "\u001b[1m1/1\u001b[0m \u001b[32m━━━━━━━━━━━━━━━━━━━━\u001b[0m\u001b[37m\u001b[0m \u001b[1m0s\u001b[0m 56ms/step\n",
      "\u001b[1m1/1\u001b[0m \u001b[32m━━━━━━━━━━━━━━━━━━━━\u001b[0m\u001b[37m\u001b[0m \u001b[1m0s\u001b[0m 55ms/step\n",
      "\u001b[1m1/1\u001b[0m \u001b[32m━━━━━━━━━━━━━━━━━━━━\u001b[0m\u001b[37m\u001b[0m \u001b[1m0s\u001b[0m 55ms/step\n",
      "\u001b[1m1/1\u001b[0m \u001b[32m━━━━━━━━━━━━━━━━━━━━\u001b[0m\u001b[37m\u001b[0m \u001b[1m0s\u001b[0m 54ms/step\n",
      "\u001b[1m1/1\u001b[0m \u001b[32m━━━━━━━━━━━━━━━━━━━━\u001b[0m\u001b[37m\u001b[0m \u001b[1m0s\u001b[0m 54ms/step\n",
      "\u001b[1m1/1\u001b[0m \u001b[32m━━━━━━━━━━━━━━━━━━━━\u001b[0m\u001b[37m\u001b[0m \u001b[1m0s\u001b[0m 54ms/step\n",
      "\u001b[1m1/1\u001b[0m \u001b[32m━━━━━━━━━━━━━━━━━━━━\u001b[0m\u001b[37m\u001b[0m \u001b[1m0s\u001b[0m 54ms/step\n",
      "\u001b[1m1/1\u001b[0m \u001b[32m━━━━━━━━━━━━━━━━━━━━\u001b[0m\u001b[37m\u001b[0m \u001b[1m0s\u001b[0m 55ms/step\n",
      "\u001b[1m1/1\u001b[0m \u001b[32m━━━━━━━━━━━━━━━━━━━━\u001b[0m\u001b[37m\u001b[0m \u001b[1m0s\u001b[0m 55ms/step\n",
      "\u001b[1m1/1\u001b[0m \u001b[32m━━━━━━━━━━━━━━━━━━━━\u001b[0m\u001b[37m\u001b[0m \u001b[1m0s\u001b[0m 55ms/step\n",
      "\u001b[1m1/1\u001b[0m \u001b[32m━━━━━━━━━━━━━━━━━━━━\u001b[0m\u001b[37m\u001b[0m \u001b[1m0s\u001b[0m 55ms/step\n",
      "\u001b[1m1/1\u001b[0m \u001b[32m━━━━━━━━━━━━━━━━━━━━\u001b[0m\u001b[37m\u001b[0m \u001b[1m0s\u001b[0m 55ms/step\n",
      "\u001b[1m1/1\u001b[0m \u001b[32m━━━━━━━━━━━━━━━━━━━━\u001b[0m\u001b[37m\u001b[0m \u001b[1m0s\u001b[0m 54ms/step\n",
      "\u001b[1m1/1\u001b[0m \u001b[32m━━━━━━━━━━━━━━━━━━━━\u001b[0m\u001b[37m\u001b[0m \u001b[1m0s\u001b[0m 54ms/step\n",
      "\u001b[1m1/1\u001b[0m \u001b[32m━━━━━━━━━━━━━━━━━━━━\u001b[0m\u001b[37m\u001b[0m \u001b[1m0s\u001b[0m 54ms/step\n",
      "\u001b[1m1/1\u001b[0m \u001b[32m━━━━━━━━━━━━━━━━━━━━\u001b[0m\u001b[37m\u001b[0m \u001b[1m0s\u001b[0m 54ms/step\n",
      "\u001b[1m1/1\u001b[0m \u001b[32m━━━━━━━━━━━━━━━━━━━━\u001b[0m\u001b[37m\u001b[0m \u001b[1m0s\u001b[0m 54ms/step\n",
      "\u001b[1m1/1\u001b[0m \u001b[32m━━━━━━━━━━━━━━━━━━━━\u001b[0m\u001b[37m\u001b[0m \u001b[1m0s\u001b[0m 35ms/step\n"
     ]
    },
    {
     "name": "stderr",
     "output_type": "stream",
     "text": [
      "2025-06-11 23:38:15.473451: I tensorflow/core/framework/local_rendezvous.cc:407] Local rendezvous is aborting with status: OUT_OF_RANGE: End of sequence\n"
     ]
    },
    {
     "data": {
      "text/plain": [
       "<Figure size 1000x800 with 0 Axes>"
      ]
     },
     "metadata": {},
     "output_type": "display_data"
    },
    {
     "data": {
      "image/png": "[encoded data removed]",
      "text/plain": [
       "<Figure size 640x480 with 2 Axes>"
      ]
     },
     "metadata": {},
     "output_type": "display_data"
    }
   ],
   "source": [
    "import numpy as np\n",
    "from sklearn.metrics import confusion_matrix, ConfusionMatrixDisplay\n",
    "import matplotlib.pyplot as plt\n",
    "\n",
    "# Obter predições no test_dataset\n",
    "y_true = []\n",
    "y_pred = []\n",
    "\n",
    "for images, labels in test_dataset:\n",
    "    preds = model.predict(images)\n",
    "    y_true.extend(np.argmax(labels.numpy(), axis=1))\n",
    "    y_pred.extend(np.argmax(preds, axis=1))\n",
    "\n",
    "class_names = test_dataset.class_names  \n",
    "\n",
    "# Criar e mostrar a matriz de confusão\n",
    "cm = confusion_matrix(y_true, y_pred)\n",
    "disp = ConfusionMatrixDisplay(confusion_matrix=cm, display_labels=class_names)\n",
    "\n",
    "plt.figure(figsize=(10, 8))\n",
    "disp.plot(cmap=plt.cm.Blues, xticks_rotation=45, values_format='d')\n",
    "plt.title(\"Matriz de Confusão - Teste\")\n",
    "plt.tight_layout()\n",
    "plt.show()"
   ]
  },
  {
   "cell_type": "markdown",
   "id": "a1aebe90-c8e6-4b41-9dd6-a2a6e835add7",
   "metadata": {},
   "source": [
    "O modelo apresenta um bom desempenho global, com elevada taxa de acerto nas classes ‘df’, ‘nv’ e ‘vasc’. No entanto, observa-se confusão significativa entre ‘akiec’, ‘bcc’ e ‘bkl’, o que pode dever-se à semelhança visual entre estas classes."
   ]
  },
  {
   "cell_type": "markdown",
   "id": "5c86360c-6ac7-4a43-a080-59da148e56e1",
   "metadata": {},
   "source": [
    "## Salvar o modelo "
   ]
  },
  {
   "cell_type": "code",
   "execution_count": null,
   "id": "e7b6fc6b-8055-4f3c-b062-dc111b741996",
   "metadata": {},
   "outputs": [
    {
     "ename": "",
     "evalue": "",
     "output_type": "error",
     "traceback": [
      "\u001b[1;31mThe Kernel crashed while executing code in the current cell or a previous cell. \n",
      "\u001b[1;31mPlease review the code in the cell(s) to identify a possible cause of the failure. \n",
      "\u001b[1;31mClick <a href='https://aka.ms/vscodeJupyterKernelCrash'>here</a> for more info. \n",
      "\u001b[1;31mView Jupyter <a href='command:jupyter.viewOutput'>log</a> for further details."
     ]
    }
   ],
   "source": [
    "model.save(\"modelS_2C_optuna_com_data_aug_adam_cat_cross.keras\")"
   ]
  }
 ],
 "metadata": {
  "kernelspec": {
   "display_name": "Python 3 (ipykernel)",
   "language": "python",
   "name": "python3"
  },
  "language_info": {
   "codemirror_mode": {
    "name": "ipython",
    "version": 3
   },
   "file_extension": ".py",
   "mimetype": "text/x-python",
   "name": "python",
   "nbconvert_exporter": "python",
   "pygments_lexer": "ipython3",
   "version": "3.12.7"
  }
 },
 "nbformat": 4,
 "nbformat_minor": 5
}
