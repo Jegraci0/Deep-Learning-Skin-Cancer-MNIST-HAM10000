{
 "cells": [
  {
   "cell_type": "code",
   "execution_count": 1,
   "id": "6743fa08-2367-4cb7-b9a5-b123a4e34f73",
   "metadata": {},
   "outputs": [
    {
     "name": "stderr",
     "output_type": "stream",
     "text": [
      "2025-06-10 22:14:26.459062: E external/local_xla/xla/stream_executor/cuda/cuda_fft.cc:467] Unable to register cuFFT factory: Attempting to register factory for plugin cuFFT when one has already been registered\n",
      "WARNING: All log messages before absl::InitializeLog() is called are written to STDERR\n",
      "E0000 00:00:1749590066.472617 3052959 cuda_dnn.cc:8579] Unable to register cuDNN factory: Attempting to register factory for plugin cuDNN when one has already been registered\n",
      "E0000 00:00:1749590066.476775 3052959 cuda_blas.cc:1407] Unable to register cuBLAS factory: Attempting to register factory for plugin cuBLAS when one has already been registered\n",
      "W0000 00:00:1749590066.487264 3052959 computation_placer.cc:177] computation placer already registered. Please check linkage and avoid linking the same target more than once.\n",
      "W0000 00:00:1749590066.487282 3052959 computation_placer.cc:177] computation placer already registered. Please check linkage and avoid linking the same target more than once.\n",
      "W0000 00:00:1749590066.487283 3052959 computation_placer.cc:177] computation placer already registered. Please check linkage and avoid linking the same target more than once.\n",
      "W0000 00:00:1749590066.487284 3052959 computation_placer.cc:177] computation placer already registered. Please check linkage and avoid linking the same target more than once.\n",
      "2025-06-10 22:14:26.490784: I tensorflow/core/platform/cpu_feature_guard.cc:210] This TensorFlow binary is optimized to use available CPU instructions in performance-critical operations.\n",
      "To enable the following instructions: AVX2 FMA, in other operations, rebuild TensorFlow with the appropriate compiler flags.\n"
     ]
    }
   ],
   "source": [
    "import tensorflow as tf\n",
    "from tensorflow.keras import regularizers\n",
    "from tensorflow.keras.preprocessing.image import ImageDataGenerator\n",
    "from tensorflow import keras\n",
    "from keras import layers\n",
    "from keras import models\n",
    "from tensorflow.keras import optimizers\n",
    "from sklearn.metrics import classification_report\n",
    "import numpy as np"
   ]
  },
  {
   "cell_type": "code",
   "execution_count": 2,
   "id": "a63eb630-54a1-4dd9-8f8a-7e0d62939f50",
   "metadata": {},
   "outputs": [
    {
     "data": {
      "text/plain": [
       "'2.19.0'"
      ]
     },
     "execution_count": 2,
     "metadata": {},
     "output_type": "execute_result"
    }
   ],
   "source": [
    "tf.__version__"
   ]
  },
  {
   "cell_type": "markdown",
   "id": "32a08072-119f-4056-872f-6e5af3cbb4c8",
   "metadata": {},
   "source": [
    "# MODELO S"
   ]
  },
  {
   "cell_type": "markdown",
   "id": "d93659dd-a478-4eb2-aa2d-b630ac092ac0",
   "metadata": {},
   "source": [
    "## 1 - Data Preprocessing"
   ]
  },
  {
   "cell_type": "markdown",
   "id": "d0ea811d-2fab-4381-8d2e-fa0d7bd99fe1",
   "metadata": {},
   "source": [
    "Caminhos dos sets"
   ]
  },
  {
   "cell_type": "code",
   "execution_count": 3,
   "id": "d73a69de-6015-49b8-809f-2fe59d6f265f",
   "metadata": {},
   "outputs": [],
   "source": [
    "train_dir = 'dataset_balanceado_final/train'\n",
    "validation_dir = 'dataset_balanceado_final/validation'\n",
    "test_dir = 'dataset_balanceado_final/test'"
   ]
  },
  {
   "cell_type": "markdown",
   "id": "af04d1ea-3828-498b-ae05-4e5463acec2d",
   "metadata": {},
   "source": [
    "Definir batch_size e image_size"
   ]
  },
  {
   "cell_type": "code",
   "execution_count": 4,
   "id": "2cb9856e-e795-44d6-9330-37da2f155b87",
   "metadata": {},
   "outputs": [],
   "source": [
    "from tensorflow.keras.utils import image_dataset_from_directory\n",
    "\n",
    "IMG_SIZE = 150\n",
    "BATCH_SIZE = 32"
   ]
  },
  {
   "cell_type": "markdown",
   "id": "94895d6d-787c-4eca-bb47-6094349f486c",
   "metadata": {},
   "source": [
    "Training set -  É o conjunto de dados usado para treinar a rede"
   ]
  },
  {
   "cell_type": "code",
   "execution_count": 5,
   "id": "8b78d735-15eb-420a-9b40-b5fb5d4f1ef4",
   "metadata": {},
   "outputs": [
    {
     "name": "stdout",
     "output_type": "stream",
     "text": [
      "Found 4276 files belonging to 7 classes.\n"
     ]
    },
    {
     "name": "stderr",
     "output_type": "stream",
     "text": [
      "I0000 00:00:1749590068.836593 3052959 gpu_device.cc:2019] Created device /job:localhost/replica:0/task:0/device:GPU:0 with 4804 MB memory:  -> device: 0, name: NVIDIA GeForce GTX 1660 SUPER, pci bus id: 0000:03:00.0, compute capability: 7.5\n",
      "I0000 00:00:1749590068.840103 3052959 gpu_device.cc:2019] Created device /job:localhost/replica:0/task:0/device:GPU:1 with 4804 MB memory:  -> device: 1, name: NVIDIA GeForce GTX 1660 SUPER, pci bus id: 0000:05:00.0, compute capability: 7.5\n"
     ]
    }
   ],
   "source": [
    "train_dataset = image_dataset_from_directory(\n",
    "    train_dir,\n",
    "    image_size=(IMG_SIZE, IMG_SIZE),\n",
    "    batch_size=BATCH_SIZE,\n",
    "    label_mode='categorical' # categorical porque temos várias classes, senão seria binário (2 classes)\n",
    ")"
   ]
  },
  {
   "cell_type": "markdown",
   "id": "48aec4e8-e4cb-4a7f-b07c-dedfe4100494",
   "metadata": {},
   "source": [
    "Validation set - Usado para 'testar' o modelo durante o processo de procura da melhor combinação de hiperparâmetros."
   ]
  },
  {
   "cell_type": "code",
   "execution_count": 6,
   "id": "ce45eb16-bc85-461d-968d-5db88e88efb1",
   "metadata": {},
   "outputs": [
    {
     "name": "stdout",
     "output_type": "stream",
     "text": [
      "Found 1420 files belonging to 7 classes.\n"
     ]
    }
   ],
   "source": [
    "validation_dataset = image_dataset_from_directory(\n",
    "    validation_dir,\n",
    "    image_size=(IMG_SIZE, IMG_SIZE),\n",
    "    batch_size=BATCH_SIZE,\n",
    "    label_mode='categorical'\n",
    ")"
   ]
  },
  {
   "cell_type": "markdown",
   "id": "082d4f6e-762f-4e15-9b6d-e59b5ccf52cc",
   "metadata": {},
   "source": [
    "Test set - Usado para testar o modelo depois do processo de treino"
   ]
  },
  {
   "cell_type": "code",
   "execution_count": 7,
   "id": "94d01250-529d-4528-a3e0-b6d46003823e",
   "metadata": {},
   "outputs": [
    {
     "name": "stdout",
     "output_type": "stream",
     "text": [
      "Found 1420 files belonging to 7 classes.\n"
     ]
    }
   ],
   "source": [
    "test_dataset = image_dataset_from_directory(\n",
    "    test_dir,\n",
    "    image_size=(IMG_SIZE, IMG_SIZE),\n",
    "    batch_size=BATCH_SIZE,\n",
    "    label_mode='categorical'\n",
    ")"
   ]
  },
  {
   "cell_type": "markdown",
   "id": "f0e9581e-de38-4e11-b878-bc30e5b61d98",
   "metadata": {},
   "source": [
    "#### Data Augmentation \n",
    "\n",
    "Gerar mais dados de treino a partir de amostras de treino existentes, aumentando as amostras através de uma série de transformações aleatórias que produzem imagens com aspeto credível."
   ]
  },
  {
   "cell_type": "code",
   "execution_count": null,
   "id": "452adb31-4a0d-4896-9f74-edf5ae795841",
   "metadata": {},
   "outputs": [],
   "source": [
    "data_augmentation = keras.Sequential([layers.RandomFlip(\"horizontal\"), # Efeito \"espelho\" a partir do eixo horizontal\n",
    "                                      layers.RandomRotation(0.1), # rotaçao de 10%\n",
    "                                      layers.RandomZoom(0.2),]) # rotação de 20% "
   ]
  },
  {
   "cell_type": "markdown",
   "id": "f90a81ba-8f80-4563-b995-0e04382fb69d",
   "metadata": {},
   "source": [
    "### Métricas para avaliar os modelos"
   ]
  },
  {
   "cell_type": "code",
   "execution_count": 9,
   "id": "81c08d43-c79f-433d-a237-9945e300bf7f",
   "metadata": {},
   "outputs": [],
   "source": [
    "# Utiliza uma função(do sckicit-learn) para avaliar o desempenho do modelo, indicando Métricas como: \n",
    "    # f1-score do modelo\n",
    "    # accuracy do modelo\n",
    "    # accuracy por classe \n",
    "\n",
    "from sklearn.metrics import classification_report\n",
    "import numpy as np\n",
    "\n",
    "def print_classification_metrics(model, dataset, phase_name):\n",
    "    y_true = []\n",
    "    y_pred = []\n",
    "\n",
    "    for images, labels in dataset:\n",
    "        preds = model.predict(images)\n",
    "        y_true.extend(np.argmax(labels.numpy(), axis=1))\n",
    "        y_pred.extend(np.argmax(preds, axis=1))\n",
    "\n",
    "    print(f\"\\n {phase_name}\")\n",
    "    print(classification_report(y_true, y_pred, digits=4))\n"
   ]
  },
  {
   "cell_type": "markdown",
   "id": "bc26dba7-c451-457d-8d4b-8ac3dec9a38e",
   "metadata": {},
   "source": [
    "## 2 - Construir a CNN (convolucional Neural Network) "
   ]
  },
  {
   "cell_type": "code",
   "execution_count": 10,
   "id": "22e49b20-4c59-4909-bb70-4238c5e7c9f9",
   "metadata": {},
   "outputs": [],
   "source": [
    "# Define a camada de entrada do modelo com o formato das imagens (altura, largura, 3 canais RGB).\n",
    "inputs = keras.Input(shape=(IMG_SIZE, IMG_SIZE, 3)) "
   ]
  },
  {
   "cell_type": "code",
   "execution_count": 11,
   "id": "5b3ec47d-589f-4591-a0b1-5bcaa41dee82",
   "metadata": {},
   "outputs": [],
   "source": [
    "#Aplica as transformações aleatórias às imagens (definidas no inicio do notebook) para aumentar a diversidade do dataset de treino e evitar overfitting.\n",
    "x = data_augmentation(inputs) "
   ]
  },
  {
   "cell_type": "code",
   "execution_count": 12,
   "id": "07a9af0d-384a-41ba-8bf8-078ab2b933fd",
   "metadata": {},
   "outputs": [],
   "source": [
    "# Normaliza os valores dos pixels das imagens de entrada para o intervalo [0, 1].\n",
    "x = layers.Rescaling(1./255)(x) "
   ]
  },
  {
   "cell_type": "markdown",
   "id": "5ec7bc90-1316-406f-bdd0-224001bd10af",
   "metadata": {},
   "source": [
    "### Passo 1 : Camada Convolucional"
   ]
  },
  {
   "cell_type": "code",
   "execution_count": 13,
   "id": "17106f6d-b9d5-498a-8c20-57ea5895c8fb",
   "metadata": {},
   "outputs": [],
   "source": [
    "# Primeira camada convolucional com 64 filtros 3x3 e ativação ReLU\n",
    "x = layers.Conv2D(filters=64, kernel_size=3, activation=\"relu\", padding=\"same\")(x) \n",
    "# adicionado o padding=\"same\" para garantir que o output da camada convolucional tem a mesma dimensão espacial (altura e largura) que o input, após a operação de convolução."
   ]
  },
  {
   "cell_type": "markdown",
   "id": "2c8bb941-854a-4b40-abce-dba331e2d0af",
   "metadata": {},
   "source": [
    "### Passo 2 : Camada de Pooling"
   ]
  },
  {
   "cell_type": "code",
   "execution_count": 14,
   "id": "b45240d6-7932-4223-9775-6bf12037b0a2",
   "metadata": {},
   "outputs": [],
   "source": [
    "# Primeira camada de pooling máximo (2x2) para reduzir a dimensionalidade.\n",
    "x = layers.MaxPooling2D(pool_size=2)(x)"
   ]
  },
  {
   "cell_type": "markdown",
   "id": "51dc68d6-5cae-42da-849c-cfe369b09a41",
   "metadata": {},
   "source": [
    "### Passo 3 : Adicionar mais camadas "
   ]
  },
  {
   "cell_type": "code",
   "execution_count": 15,
   "id": "b62253dc-3aa6-4575-8acb-bc169140390a",
   "metadata": {},
   "outputs": [],
   "source": [
    "# Segunda camada convolucional com 128 filtros 3x3 e ativação ReLU.\n",
    "x = layers.Conv2D(filters=128, kernel_size=3, activation=\"relu\", padding=\"same\")(x)\n",
    "# Segunda camada de pooling máximo (2x2).\n",
    "x = layers.MaxPooling2D(pool_size=2)(x)"
   ]
  },
  {
   "cell_type": "code",
   "execution_count": 16,
   "id": "f67a0ec4-0100-48c6-84d0-ddd046034b54",
   "metadata": {},
   "outputs": [],
   "source": [
    "# Terceira camada convolucional com 128 filtros 3x3 e ativação ReLU.\n",
    "x = layers.Conv2D(filters=128, kernel_size=3, activation=\"relu\", padding=\"same\")(x)\n",
    "# Terceira camada de pooling máximo (2x2).\n",
    "x = layers.MaxPooling2D(pool_size=2)(x)"
   ]
  },
  {
   "cell_type": "markdown",
   "id": "0d77df4c-8f91-4404-9ef4-43cfc710401e",
   "metadata": {},
   "source": [
    "### Passo 4 : Flattening "
   ]
  },
  {
   "cell_type": "code",
   "execution_count": 17,
   "id": "d021fcdd-1dc8-465c-a99e-4c206ff5c3bb",
   "metadata": {},
   "outputs": [],
   "source": [
    "# Achata o output das camadas convolucionais para um vetor 1D.\n",
    "x = layers.Flatten()(x)"
   ]
  },
  {
   "cell_type": "markdown",
   "id": "f3b4db63",
   "metadata": {},
   "source": [
    "BATCH NORMALIZATION  (Facultativo)"
   ]
  },
  {
   "cell_type": "code",
   "execution_count": 18,
   "id": "952beb31",
   "metadata": {},
   "outputs": [],
   "source": [
    "# tirar comentario desta linha abaixo se queremos usar batch normalization\n",
    "# porem foi testado varias vezes e em diferentes camadas da rede, mas não melhorou o desempenho do modelo (e o optuna tambem sugeriu nao utilizar)\n",
    "#x = layers.BatchNormalization( axis=-1, momentum=0.99, epsilon=0.001, center=True, scale=True,beta_initializer=\"zeros\",    moving_mean_initializer=\"zeros\", moving_variance_initializer=\"ones\")(x)"
   ]
  },
  {
   "cell_type": "markdown",
   "id": "0751a985-5b94-4d86-9927-4135e702e9ff",
   "metadata": {},
   "source": [
    "#### Dropout (facultativo) - funçao de regularização"
   ]
  },
  {
   "cell_type": "code",
   "execution_count": 19,
   "id": "600d79d4-34d0-42f4-a7d1-65dfbed76654",
   "metadata": {},
   "outputs": [],
   "source": [
    "# Aplica Dropout (50%) para desativar aleatoriamente neurónios, prevenindo o overfitting.\n",
    "x = layers.Dropout(0.5)(x)"
   ]
  },
  {
   "cell_type": "markdown",
   "id": "75360c9b-5670-4341-b382-a1843d6a9940",
   "metadata": {},
   "source": [
    "### Passo 5 : Full Connection"
   ]
  },
  {
   "cell_type": "code",
   "execution_count": 20,
   "id": "03a5f800-011f-4b53-96a4-fb63098ce4e4",
   "metadata": {},
   "outputs": [],
   "source": [
    "# Definir funçao de Regularização L2 (opcional)\n",
    "reg = regularizers.l2(0.01)  # Executar para ativar\n",
    "\n",
    "# Camada densa (totalmente conectada) com 128 neurónios, ativação ReLU e funçao de regularizaçao L2\n",
    "x = layers.Dense(128, activation=\"relu\", kernel_regularizer=reg)(x)"
   ]
  },
  {
   "cell_type": "markdown",
   "id": "ca287815-1cb5-4755-b3f0-9ca20bf53f24",
   "metadata": {},
   "source": [
    "### Passo 6 : Output Layer"
   ]
  },
  {
   "cell_type": "code",
   "execution_count": 21,
   "id": "48094fda-a84a-40ed-aac1-c55db903b71f",
   "metadata": {},
   "outputs": [],
   "source": [
    "# Camada de saída densa com 7 neurónios e ativação Softmax (para classificação categórica).\n",
    "outputs = layers.Dense(7, activation=\"softmax\")(x) "
   ]
  },
  {
   "cell_type": "code",
   "execution_count": 22,
   "id": "7a55c088-528f-4988-ae7f-46082fa44fa2",
   "metadata": {},
   "outputs": [],
   "source": [
    "# Cria o modelo Keras usando as camadas de entrada e saída definidas.\n",
    "model = keras.Model(inputs=inputs, outputs=outputs)"
   ]
  },
  {
   "cell_type": "markdown",
   "id": "18d101bc-7c54-47a1-b832-738482968a94",
   "metadata": {},
   "source": [
    "## 3 - Treinar a rede CNN "
   ]
  },
  {
   "cell_type": "markdown",
   "id": "a06e0396",
   "metadata": {},
   "source": [
    "#### Funções de otimização disponíveis: Adam, RMSprop e SGD"
   ]
  },
  {
   "cell_type": "markdown",
   "id": "06f5f619-5401-493c-919a-51dff2b04807",
   "metadata": {},
   "source": [
    "#### Funções de loss disponíveis: categorical_crossentropy    ,    KLDivergence e MSE "
   ]
  },
  {
   "cell_type": "code",
   "execution_count": 23,
   "id": "708fb329",
   "metadata": {},
   "outputs": [],
   "source": [
    "# Configura o otimizador Adam \n",
    "# Define a função de loss: KLDivergence\n",
    "# Indica que a 'accuracy' (precisão) será a métrica durante o treino.\n",
    "model.compile(\n",
    "    optimizer=tf.keras.optimizers.Adam(),\n",
    "    loss=tf.keras.losses.KLDivergence(),\n",
    "    metrics=['accuracy'])"
   ]
  },
  {
   "cell_type": "code",
   "execution_count": 24,
   "id": "e0ecc518-2720-4fa5-ac9e-0b6029024b29",
   "metadata": {},
   "outputs": [],
   "source": [
    "#model.compile(\n",
    "    #optimizer='SGD', \n",
    "    #loss='mse',\n",
    "    #metrics=['accuracy'])"
   ]
  },
  {
   "cell_type": "code",
   "execution_count": 25,
   "id": "bff0194b-06bb-484e-a116-3004a8b8cf4f",
   "metadata": {},
   "outputs": [],
   "source": [
    "#model.compile(\n",
    "    #optimizer=tf.keras.optimizers.RMSprop(),\n",
    "    #loss=tf.keras.losses.KLDivergence(),\n",
    "    #metrics=['accuracy'])"
   ]
  },
  {
   "cell_type": "markdown",
   "id": "586275df-0662-4e89-9486-18c4d0354554",
   "metadata": {},
   "source": [
    "### Treinar o modelo"
   ]
  },
  {
   "cell_type": "code",
   "execution_count": 26,
   "id": "968a7067-3e11-4d80-a1d9-606eb23f1164",
   "metadata": {},
   "outputs": [
    {
     "name": "stdout",
     "output_type": "stream",
     "text": [
      "Epoch 1/25\n"
     ]
    },
    {
     "name": "stderr",
     "output_type": "stream",
     "text": [
      "I0000 00:00:1749590072.986723 3053018 cuda_dnn.cc:529] Loaded cuDNN version 90300\n"
     ]
    },
    {
     "name": "stdout",
     "output_type": "stream",
     "text": [
      "\u001b[1m134/134\u001b[0m \u001b[32m━━━━━━━━━━━━━━━━━━━━\u001b[0m\u001b[37m\u001b[0m \u001b[1m14s\u001b[0m 80ms/step - accuracy: 0.1804 - loss: 2.9115 - val_accuracy: 0.2507 - val_loss: 1.9783\n",
      "Epoch 2/25\n",
      "\u001b[1m134/134\u001b[0m \u001b[32m━━━━━━━━━━━━━━━━━━━━\u001b[0m\u001b[37m\u001b[0m \u001b[1m10s\u001b[0m 74ms/step - accuracy: 0.3034 - loss: 1.9019 - val_accuracy: 0.3254 - val_loss: 1.8228\n",
      "Epoch 3/25\n",
      "\u001b[1m134/134\u001b[0m \u001b[32m━━━━━━━━━━━━━━━━━━━━\u001b[0m\u001b[37m\u001b[0m \u001b[1m10s\u001b[0m 74ms/step - accuracy: 0.3868 - loss: 1.7169 - val_accuracy: 0.4789 - val_loss: 1.5583\n",
      "Epoch 4/25\n",
      "\u001b[1m134/134\u001b[0m \u001b[32m━━━━━━━━━━━━━━━━━━━━\u001b[0m\u001b[37m\u001b[0m \u001b[1m10s\u001b[0m 74ms/step - accuracy: 0.4316 - loss: 1.5989 - val_accuracy: 0.5035 - val_loss: 1.4842\n",
      "Epoch 5/25\n",
      "\u001b[1m134/134\u001b[0m \u001b[32m━━━━━━━━━━━━━━━━━━━━\u001b[0m\u001b[37m\u001b[0m \u001b[1m10s\u001b[0m 74ms/step - accuracy: 0.4726 - loss: 1.4959 - val_accuracy: 0.4951 - val_loss: 1.4498\n",
      "Epoch 6/25\n",
      "\u001b[1m134/134\u001b[0m \u001b[32m━━━━━━━━━━━━━━━━━━━━\u001b[0m\u001b[37m\u001b[0m \u001b[1m10s\u001b[0m 74ms/step - accuracy: 0.4765 - loss: 1.4581 - val_accuracy: 0.4831 - val_loss: 1.5025\n",
      "Epoch 7/25\n",
      "\u001b[1m134/134\u001b[0m \u001b[32m━━━━━━━━━━━━━━━━━━━━\u001b[0m\u001b[37m\u001b[0m \u001b[1m10s\u001b[0m 74ms/step - accuracy: 0.4846 - loss: 1.4575 - val_accuracy: 0.4789 - val_loss: 1.5565\n",
      "Epoch 8/25\n",
      "\u001b[1m134/134\u001b[0m \u001b[32m━━━━━━━━━━━━━━━━━━━━\u001b[0m\u001b[37m\u001b[0m \u001b[1m10s\u001b[0m 74ms/step - accuracy: 0.4989 - loss: 1.4091 - val_accuracy: 0.5394 - val_loss: 1.3455\n",
      "Epoch 9/25\n",
      "\u001b[1m134/134\u001b[0m \u001b[32m━━━━━━━━━━━━━━━━━━━━\u001b[0m\u001b[37m\u001b[0m \u001b[1m10s\u001b[0m 74ms/step - accuracy: 0.5071 - loss: 1.4035 - val_accuracy: 0.4887 - val_loss: 1.4702\n",
      "Epoch 10/25\n",
      "\u001b[1m134/134\u001b[0m \u001b[32m━━━━━━━━━━━━━━━━━━━━\u001b[0m\u001b[37m\u001b[0m \u001b[1m10s\u001b[0m 74ms/step - accuracy: 0.4975 - loss: 1.4033 - val_accuracy: 0.5458 - val_loss: 1.3391\n",
      "Epoch 11/25\n",
      "\u001b[1m134/134\u001b[0m \u001b[32m━━━━━━━━━━━━━━━━━━━━\u001b[0m\u001b[37m\u001b[0m \u001b[1m10s\u001b[0m 74ms/step - accuracy: 0.5175 - loss: 1.3452 - val_accuracy: 0.5141 - val_loss: 1.4211\n",
      "Epoch 12/25\n",
      "\u001b[1m134/134\u001b[0m \u001b[32m━━━━━━━━━━━━━━━━━━━━\u001b[0m\u001b[37m\u001b[0m \u001b[1m10s\u001b[0m 74ms/step - accuracy: 0.5057 - loss: 1.3954 - val_accuracy: 0.5070 - val_loss: 1.4471\n",
      "Epoch 13/25\n",
      "\u001b[1m134/134\u001b[0m \u001b[32m━━━━━━━━━━━━━━━━━━━━\u001b[0m\u001b[37m\u001b[0m \u001b[1m10s\u001b[0m 74ms/step - accuracy: 0.5250 - loss: 1.3703 - val_accuracy: 0.5479 - val_loss: 1.3006\n",
      "Epoch 14/25\n",
      "\u001b[1m134/134\u001b[0m \u001b[32m━━━━━━━━━━━━━━━━━━━━\u001b[0m\u001b[37m\u001b[0m \u001b[1m10s\u001b[0m 74ms/step - accuracy: 0.5237 - loss: 1.3504 - val_accuracy: 0.5099 - val_loss: 1.4027\n",
      "Epoch 15/25\n",
      "\u001b[1m134/134\u001b[0m \u001b[32m━━━━━━━━━━━━━━━━━━━━\u001b[0m\u001b[37m\u001b[0m \u001b[1m10s\u001b[0m 74ms/step - accuracy: 0.5286 - loss: 1.3746 - val_accuracy: 0.5549 - val_loss: 1.3289\n",
      "Epoch 16/25\n",
      "\u001b[1m134/134\u001b[0m \u001b[32m━━━━━━━━━━━━━━━━━━━━\u001b[0m\u001b[37m\u001b[0m \u001b[1m10s\u001b[0m 74ms/step - accuracy: 0.5208 - loss: 1.3788 - val_accuracy: 0.5493 - val_loss: 1.2961\n",
      "Epoch 17/25\n",
      "\u001b[1m134/134\u001b[0m \u001b[32m━━━━━━━━━━━━━━━━━━━━\u001b[0m\u001b[37m\u001b[0m \u001b[1m10s\u001b[0m 74ms/step - accuracy: 0.5367 - loss: 1.3235 - val_accuracy: 0.5465 - val_loss: 1.3486\n",
      "Epoch 18/25\n",
      "\u001b[1m134/134\u001b[0m \u001b[32m━━━━━━━━━━━━━━━━━━━━\u001b[0m\u001b[37m\u001b[0m \u001b[1m10s\u001b[0m 74ms/step - accuracy: 0.5250 - loss: 1.3372 - val_accuracy: 0.5387 - val_loss: 1.3425\n",
      "Epoch 19/25\n",
      "\u001b[1m134/134\u001b[0m \u001b[32m━━━━━━━━━━━━━━━━━━━━\u001b[0m\u001b[37m\u001b[0m \u001b[1m10s\u001b[0m 74ms/step - accuracy: 0.5391 - loss: 1.3248 - val_accuracy: 0.5563 - val_loss: 1.3054\n",
      "Epoch 20/25\n",
      "\u001b[1m134/134\u001b[0m \u001b[32m━━━━━━━━━━━━━━━━━━━━\u001b[0m\u001b[37m\u001b[0m \u001b[1m10s\u001b[0m 74ms/step - accuracy: 0.5539 - loss: 1.2846 - val_accuracy: 0.5479 - val_loss: 1.3432\n",
      "Epoch 21/25\n",
      "\u001b[1m134/134\u001b[0m \u001b[32m━━━━━━━━━━━━━━━━━━━━\u001b[0m\u001b[37m\u001b[0m \u001b[1m10s\u001b[0m 74ms/step - accuracy: 0.5411 - loss: 1.3123 - val_accuracy: 0.5648 - val_loss: 1.3016\n",
      "Epoch 22/25\n",
      "\u001b[1m134/134\u001b[0m \u001b[32m━━━━━━━━━━━━━━━━━━━━\u001b[0m\u001b[37m\u001b[0m \u001b[1m10s\u001b[0m 74ms/step - accuracy: 0.5298 - loss: 1.3281 - val_accuracy: 0.5514 - val_loss: 1.3078\n",
      "Epoch 23/25\n",
      "\u001b[1m134/134\u001b[0m \u001b[32m━━━━━━━━━━━━━━━━━━━━\u001b[0m\u001b[37m\u001b[0m \u001b[1m10s\u001b[0m 74ms/step - accuracy: 0.5483 - loss: 1.3064 - val_accuracy: 0.5592 - val_loss: 1.3390\n",
      "Epoch 24/25\n",
      "\u001b[1m134/134\u001b[0m \u001b[32m━━━━━━━━━━━━━━━━━━━━\u001b[0m\u001b[37m\u001b[0m \u001b[1m10s\u001b[0m 74ms/step - accuracy: 0.5290 - loss: 1.3327 - val_accuracy: 0.5535 - val_loss: 1.3448\n",
      "Epoch 25/25\n",
      "\u001b[1m134/134\u001b[0m \u001b[32m━━━━━━━━━━━━━━━━━━━━\u001b[0m\u001b[37m\u001b[0m \u001b[1m10s\u001b[0m 74ms/step - accuracy: 0.5280 - loss: 1.3284 - val_accuracy: 0.5697 - val_loss: 1.2698\n"
     ]
    }
   ],
   "source": [
    "history = model.fit(\n",
    "    train_dataset, #Inicia o treino do modelo usando o conjunto de dados de treino.\n",
    "    epochs=25,     # O modelo será treinado por 25 épocas (passagens completas pelo conjunto de treino).\n",
    "    validation_data=validation_dataset) # Usa o conjunto de dados de validação para monitorizar o desempenho do modelo em dados não vistos durante o treino."
   ]
  },
  {
   "cell_type": "markdown",
   "id": "6c5140ab-de0b-4cc4-bdde-b1cb08a365ac",
   "metadata": {},
   "source": [
    "## 4 - Testar o modelo"
   ]
  },
  {
   "cell_type": "code",
   "execution_count": 27,
   "id": "f834d88a-789c-4f7d-a898-5c9fa4eb6fe8",
   "metadata": {},
   "outputs": [
    {
     "name": "stdout",
     "output_type": "stream",
     "text": [
      "\u001b[1m1/1\u001b[0m \u001b[32m━━━━━━━━━━━━━━━━━━━━\u001b[0m\u001b[37m\u001b[0m \u001b[1m0s\u001b[0m 103ms/step\n",
      "\u001b[1m1/1\u001b[0m \u001b[32m━━━━━━━━━━━━━━━━━━━━\u001b[0m\u001b[37m\u001b[0m \u001b[1m0s\u001b[0m 55ms/step\n",
      "\u001b[1m1/1\u001b[0m \u001b[32m━━━━━━━━━━━━━━━━━━━━\u001b[0m\u001b[37m\u001b[0m \u001b[1m0s\u001b[0m 56ms/step\n",
      "\u001b[1m1/1\u001b[0m \u001b[32m━━━━━━━━━━━━━━━━━━━━\u001b[0m\u001b[37m\u001b[0m \u001b[1m0s\u001b[0m 55ms/step\n",
      "\u001b[1m1/1\u001b[0m \u001b[32m━━━━━━━━━━━━━━━━━━━━\u001b[0m\u001b[37m\u001b[0m \u001b[1m0s\u001b[0m 53ms/step\n",
      "\u001b[1m1/1\u001b[0m \u001b[32m━━━━━━━━━━━━━━━━━━━━\u001b[0m\u001b[37m\u001b[0m \u001b[1m0s\u001b[0m 54ms/step\n",
      "\u001b[1m1/1\u001b[0m \u001b[32m━━━━━━━━━━━━━━━━━━━━\u001b[0m\u001b[37m\u001b[0m \u001b[1m0s\u001b[0m 54ms/step\n",
      "\u001b[1m1/1\u001b[0m \u001b[32m━━━━━━━━━━━━━━━━━━━━\u001b[0m\u001b[37m\u001b[0m \u001b[1m0s\u001b[0m 55ms/step\n",
      "\u001b[1m1/1\u001b[0m \u001b[32m━━━━━━━━━━━━━━━━━━━━\u001b[0m\u001b[37m\u001b[0m \u001b[1m0s\u001b[0m 55ms/step\n",
      "\u001b[1m1/1\u001b[0m \u001b[32m━━━━━━━━━━━━━━━━━━━━\u001b[0m\u001b[37m\u001b[0m \u001b[1m0s\u001b[0m 54ms/step\n",
      "\u001b[1m1/1\u001b[0m \u001b[32m━━━━━━━━━━━━━━━━━━━━\u001b[0m\u001b[37m\u001b[0m \u001b[1m0s\u001b[0m 54ms/step\n",
      "\u001b[1m1/1\u001b[0m \u001b[32m━━━━━━━━━━━━━━━━━━━━\u001b[0m\u001b[37m\u001b[0m \u001b[1m0s\u001b[0m 53ms/step\n",
      "\u001b[1m1/1\u001b[0m \u001b[32m━━━━━━━━━━━━━━━━━━━━\u001b[0m\u001b[37m\u001b[0m \u001b[1m0s\u001b[0m 55ms/step\n",
      "\u001b[1m1/1\u001b[0m \u001b[32m━━━━━━━━━━━━━━━━━━━━\u001b[0m\u001b[37m\u001b[0m \u001b[1m0s\u001b[0m 53ms/step\n",
      "\u001b[1m1/1\u001b[0m \u001b[32m━━━━━━━━━━━━━━━━━━━━\u001b[0m\u001b[37m\u001b[0m \u001b[1m0s\u001b[0m 53ms/step\n",
      "\u001b[1m1/1\u001b[0m \u001b[32m━━━━━━━━━━━━━━━━━━━━\u001b[0m\u001b[37m\u001b[0m \u001b[1m0s\u001b[0m 55ms/step\n",
      "\u001b[1m1/1\u001b[0m \u001b[32m━━━━━━━━━━━━━━━━━━━━\u001b[0m\u001b[37m\u001b[0m \u001b[1m0s\u001b[0m 55ms/step\n",
      "\u001b[1m1/1\u001b[0m \u001b[32m━━━━━━━━━━━━━━━━━━━━\u001b[0m\u001b[37m\u001b[0m \u001b[1m0s\u001b[0m 56ms/step\n",
      "\u001b[1m1/1\u001b[0m \u001b[32m━━━━━━━━━━━━━━━━━━━━\u001b[0m\u001b[37m\u001b[0m \u001b[1m0s\u001b[0m 54ms/step\n",
      "\u001b[1m1/1\u001b[0m \u001b[32m━━━━━━━━━━━━━━━━━━━━\u001b[0m\u001b[37m\u001b[0m \u001b[1m0s\u001b[0m 54ms/step\n",
      "\u001b[1m1/1\u001b[0m \u001b[32m━━━━━━━━━━━━━━━━━━━━\u001b[0m\u001b[37m\u001b[0m \u001b[1m0s\u001b[0m 54ms/step\n",
      "\u001b[1m1/1\u001b[0m \u001b[32m━━━━━━━━━━━━━━━━━━━━\u001b[0m\u001b[37m\u001b[0m \u001b[1m0s\u001b[0m 54ms/step\n",
      "\u001b[1m1/1\u001b[0m \u001b[32m━━━━━━━━━━━━━━━━━━━━\u001b[0m\u001b[37m\u001b[0m \u001b[1m0s\u001b[0m 53ms/step\n",
      "\u001b[1m1/1\u001b[0m \u001b[32m━━━━━━━━━━━━━━━━━━━━\u001b[0m\u001b[37m\u001b[0m \u001b[1m0s\u001b[0m 54ms/step\n",
      "\u001b[1m1/1\u001b[0m \u001b[32m━━━━━━━━━━━━━━━━━━━━\u001b[0m\u001b[37m\u001b[0m \u001b[1m0s\u001b[0m 53ms/step\n",
      "\u001b[1m1/1\u001b[0m \u001b[32m━━━━━━━━━━━━━━━━━━━━\u001b[0m\u001b[37m\u001b[0m \u001b[1m0s\u001b[0m 54ms/step\n",
      "\u001b[1m1/1\u001b[0m \u001b[32m━━━━━━━━━━━━━━━━━━━━\u001b[0m\u001b[37m\u001b[0m \u001b[1m0s\u001b[0m 56ms/step\n",
      "\u001b[1m1/1\u001b[0m \u001b[32m━━━━━━━━━━━━━━━━━━━━\u001b[0m\u001b[37m\u001b[0m \u001b[1m0s\u001b[0m 55ms/step\n",
      "\u001b[1m1/1\u001b[0m \u001b[32m━━━━━━━━━━━━━━━━━━━━\u001b[0m\u001b[37m\u001b[0m \u001b[1m0s\u001b[0m 54ms/step\n",
      "\u001b[1m1/1\u001b[0m \u001b[32m━━━━━━━━━━━━━━━━━━━━\u001b[0m\u001b[37m\u001b[0m \u001b[1m0s\u001b[0m 55ms/step\n",
      "\u001b[1m1/1\u001b[0m \u001b[32m━━━━━━━━━━━━━━━━━━━━\u001b[0m\u001b[37m\u001b[0m \u001b[1m0s\u001b[0m 54ms/step\n",
      "\u001b[1m1/1\u001b[0m \u001b[32m━━━━━━━━━━━━━━━━━━━━\u001b[0m\u001b[37m\u001b[0m \u001b[1m0s\u001b[0m 54ms/step\n",
      "\u001b[1m1/1\u001b[0m \u001b[32m━━━━━━━━━━━━━━━━━━━━\u001b[0m\u001b[37m\u001b[0m \u001b[1m0s\u001b[0m 54ms/step\n",
      "\u001b[1m1/1\u001b[0m \u001b[32m━━━━━━━━━━━━━━━━━━━━\u001b[0m\u001b[37m\u001b[0m \u001b[1m0s\u001b[0m 54ms/step\n",
      "\u001b[1m1/1\u001b[0m \u001b[32m━━━━━━━━━━━━━━━━━━━━\u001b[0m\u001b[37m\u001b[0m \u001b[1m0s\u001b[0m 54ms/step\n",
      "\u001b[1m1/1\u001b[0m \u001b[32m━━━━━━━━━━━━━━━━━━━━\u001b[0m\u001b[37m\u001b[0m \u001b[1m0s\u001b[0m 53ms/step\n",
      "\u001b[1m1/1\u001b[0m \u001b[32m━━━━━━━━━━━━━━━━━━━━\u001b[0m\u001b[37m\u001b[0m \u001b[1m0s\u001b[0m 54ms/step\n",
      "\u001b[1m1/1\u001b[0m \u001b[32m━━━━━━━━━━━━━━━━━━━━\u001b[0m\u001b[37m\u001b[0m \u001b[1m0s\u001b[0m 53ms/step\n",
      "\u001b[1m1/1\u001b[0m \u001b[32m━━━━━━━━━━━━━━━━━━━━\u001b[0m\u001b[37m\u001b[0m \u001b[1m0s\u001b[0m 53ms/step\n",
      "\u001b[1m1/1\u001b[0m \u001b[32m━━━━━━━━━━━━━━━━━━━━\u001b[0m\u001b[37m\u001b[0m \u001b[1m0s\u001b[0m 53ms/step\n",
      "\u001b[1m1/1\u001b[0m \u001b[32m━━━━━━━━━━━━━━━━━━━━\u001b[0m\u001b[37m\u001b[0m \u001b[1m0s\u001b[0m 53ms/step\n",
      "\u001b[1m1/1\u001b[0m \u001b[32m━━━━━━━━━━━━━━━━━━━━\u001b[0m\u001b[37m\u001b[0m \u001b[1m0s\u001b[0m 55ms/step\n",
      "\u001b[1m1/1\u001b[0m \u001b[32m━━━━━━━━━━━━━━━━━━━━\u001b[0m\u001b[37m\u001b[0m \u001b[1m0s\u001b[0m 54ms/step\n",
      "\u001b[1m1/1\u001b[0m \u001b[32m━━━━━━━━━━━━━━━━━━━━\u001b[0m\u001b[37m\u001b[0m \u001b[1m0s\u001b[0m 54ms/step\n",
      "\u001b[1m1/1\u001b[0m \u001b[32m━━━━━━━━━━━━━━━━━━━━\u001b[0m\u001b[37m\u001b[0m \u001b[1m0s\u001b[0m 82ms/step\n",
      "\n",
      " Modelo 1 : CNN de raiz\n",
      "              precision    recall  f1-score   support\n",
      "\n",
      "           0     0.4602    0.4154    0.4367       195\n",
      "           1     0.4839    0.4545    0.4688       198\n",
      "           2     0.5299    0.6484    0.5832       219\n",
      "           3     0.5172    0.4688    0.4918       192\n",
      "           4     0.5311    0.5000    0.5151       222\n",
      "           5     0.6738    0.6300    0.6512       200\n",
      "           6     0.8455    0.9588    0.8986       194\n",
      "\n",
      "    accuracy                         0.5817      1420\n",
      "   macro avg     0.5774    0.5823    0.5779      1420\n",
      "weighted avg     0.5758    0.5817    0.5768      1420\n",
      "\n"
     ]
    },
    {
     "name": "stderr",
     "output_type": "stream",
     "text": [
      "2025-06-10 22:18:47.909411: I tensorflow/core/framework/local_rendezvous.cc:407] Local rendezvous is aborting with status: OUT_OF_RANGE: End of sequence\n"
     ]
    }
   ],
   "source": [
    "print_classification_metrics(model, test_dataset, \"Modelo 1 : CNN de raiz\")"
   ]
  },
  {
   "cell_type": "markdown",
   "id": "b04ddfca",
   "metadata": {},
   "source": [
    "Ver as Curvas de Loss e de Accuracy"
   ]
  },
  {
   "cell_type": "code",
   "execution_count": 28,
   "id": "fe44bf35",
   "metadata": {},
   "outputs": [
    {
     "data": {
      "image/png": "[encoded data removed]",
      "text/plain": [
       "<Figure size 640x480 with 1 Axes>"
      ]
     },
     "metadata": {},
     "output_type": "display_data"
    },
    {
     "data": {
      "image/png": "[encoded data removed]",
      "text/plain": [
       "<Figure size 640x480 with 1 Axes>"
      ]
     },
     "metadata": {},
     "output_type": "display_data"
    }
   ],
   "source": [
    "import matplotlib.pyplot as plt\n",
    "accuracy = history.history['accuracy']\n",
    "val_acc = history.history['val_accuracy']\n",
    "loss = history.history['loss']\n",
    "val_loss = history.history['val_loss']\n",
    "epochs = range(1, len(accuracy) + 1)\n",
    "plt.plot(epochs, accuracy, 'bo', label='Training acc')\n",
    "plt.plot(epochs, val_acc, 'b', label='Validation acc')\n",
    "plt.title('Training and validation accuracy')\n",
    "plt.legend()\n",
    "plt.figure()\n",
    "plt.plot(epochs, loss, 'bo', label='Training loss')\n",
    "plt.plot(epochs, val_loss, 'b', label='Validation loss')\n",
    "plt.title('Training and validation loss')\n",
    "plt.legend()\n",
    "plt.show()"
   ]
  },
  {
   "cell_type": "markdown",
   "id": "6cdd6605",
   "metadata": {},
   "source": [
    "Análise geral dos gráficos acima:\n",
    "O modelo treinou de forma \"equilibrada\", com desempenho consistente em treino e validação. A estabilidade das curvas sugere que o número de épocas foi adequado e o modelo está bem ajustado."
   ]
  },
  {
   "cell_type": "code",
   "execution_count": null,
   "id": "db663a36",
   "metadata": {},
   "outputs": [
    {
     "name": "stdout",
     "output_type": "stream",
     "text": [
      "\u001b[1m1/1\u001b[0m \u001b[32m━━━━━━━━━━━━━━━━━━━━\u001b[0m\u001b[37m\u001b[0m \u001b[1m0s\u001b[0m 89ms/step\n",
      "\u001b[1m1/1\u001b[0m \u001b[32m━━━━━━━━━━━━━━━━━━━━\u001b[0m\u001b[37m\u001b[0m \u001b[1m0s\u001b[0m 55ms/step\n",
      "\u001b[1m1/1\u001b[0m \u001b[32m━━━━━━━━━━━━━━━━━━━━\u001b[0m\u001b[37m\u001b[0m \u001b[1m0s\u001b[0m 55ms/step\n",
      "\u001b[1m1/1\u001b[0m \u001b[32m━━━━━━━━━━━━━━━━━━━━\u001b[0m\u001b[37m\u001b[0m \u001b[1m0s\u001b[0m 55ms/step\n",
      "\u001b[1m1/1\u001b[0m \u001b[32m━━━━━━━━━━━━━━━━━━━━\u001b[0m\u001b[37m\u001b[0m \u001b[1m0s\u001b[0m 55ms/step\n",
      "\u001b[1m1/1\u001b[0m \u001b[32m━━━━━━━━━━━━━━━━━━━━\u001b[0m\u001b[37m\u001b[0m \u001b[1m0s\u001b[0m 55ms/step\n",
      "\u001b[1m1/1\u001b[0m \u001b[32m━━━━━━━━━━━━━━━━━━━━\u001b[0m\u001b[37m\u001b[0m \u001b[1m0s\u001b[0m 55ms/step\n",
      "\u001b[1m1/1\u001b[0m \u001b[32m━━━━━━━━━━━━━━━━━━━━\u001b[0m\u001b[37m\u001b[0m \u001b[1m0s\u001b[0m 54ms/step\n",
      "\u001b[1m1/1\u001b[0m \u001b[32m━━━━━━━━━━━━━━━━━━━━\u001b[0m\u001b[37m\u001b[0m \u001b[1m0s\u001b[0m 54ms/step\n",
      "\u001b[1m1/1\u001b[0m \u001b[32m━━━━━━━━━━━━━━━━━━━━\u001b[0m\u001b[37m\u001b[0m \u001b[1m0s\u001b[0m 54ms/step\n",
      "\u001b[1m1/1\u001b[0m \u001b[32m━━━━━━━━━━━━━━━━━━━━\u001b[0m\u001b[37m\u001b[0m \u001b[1m0s\u001b[0m 54ms/step\n",
      "\u001b[1m1/1\u001b[0m \u001b[32m━━━━━━━━━━━━━━━━━━━━\u001b[0m\u001b[37m\u001b[0m \u001b[1m0s\u001b[0m 54ms/step\n",
      "\u001b[1m1/1\u001b[0m \u001b[32m━━━━━━━━━━━━━━━━━━━━\u001b[0m\u001b[37m\u001b[0m \u001b[1m0s\u001b[0m 55ms/step\n",
      "\u001b[1m1/1\u001b[0m \u001b[32m━━━━━━━━━━━━━━━━━━━━\u001b[0m\u001b[37m\u001b[0m \u001b[1m0s\u001b[0m 54ms/step\n",
      "\u001b[1m1/1\u001b[0m \u001b[32m━━━━━━━━━━━━━━━━━━━━\u001b[0m\u001b[37m\u001b[0m \u001b[1m0s\u001b[0m 54ms/step\n",
      "\u001b[1m1/1\u001b[0m \u001b[32m━━━━━━━━━━━━━━━━━━━━\u001b[0m\u001b[37m\u001b[0m \u001b[1m0s\u001b[0m 54ms/step\n",
      "\u001b[1m1/1\u001b[0m \u001b[32m━━━━━━━━━━━━━━━━━━━━\u001b[0m\u001b[37m\u001b[0m \u001b[1m0s\u001b[0m 54ms/step\n",
      "\u001b[1m1/1\u001b[0m \u001b[32m━━━━━━━━━━━━━━━━━━━━\u001b[0m\u001b[37m\u001b[0m \u001b[1m0s\u001b[0m 54ms/step\n",
      "\u001b[1m1/1\u001b[0m \u001b[32m━━━━━━━━━━━━━━━━━━━━\u001b[0m\u001b[37m\u001b[0m \u001b[1m0s\u001b[0m 54ms/step\n",
      "\u001b[1m1/1\u001b[0m \u001b[32m━━━━━━━━━━━━━━━━━━━━\u001b[0m\u001b[37m\u001b[0m \u001b[1m0s\u001b[0m 54ms/step\n",
      "\u001b[1m1/1\u001b[0m \u001b[32m━━━━━━━━━━━━━━━━━━━━\u001b[0m\u001b[37m\u001b[0m \u001b[1m0s\u001b[0m 54ms/step\n",
      "\u001b[1m1/1\u001b[0m \u001b[32m━━━━━━━━━━━━━━━━━━━━\u001b[0m\u001b[37m\u001b[0m \u001b[1m0s\u001b[0m 54ms/step\n",
      "\u001b[1m1/1\u001b[0m \u001b[32m━━━━━━━━━━━━━━━━━━━━\u001b[0m\u001b[37m\u001b[0m \u001b[1m0s\u001b[0m 54ms/step\n",
      "\u001b[1m1/1\u001b[0m \u001b[32m━━━━━━━━━━━━━━━━━━━━\u001b[0m\u001b[37m\u001b[0m \u001b[1m0s\u001b[0m 54ms/step\n",
      "\u001b[1m1/1\u001b[0m \u001b[32m━━━━━━━━━━━━━━━━━━━━\u001b[0m\u001b[37m\u001b[0m \u001b[1m0s\u001b[0m 54ms/step\n",
      "\u001b[1m1/1\u001b[0m \u001b[32m━━━━━━━━━━━━━━━━━━━━\u001b[0m\u001b[37m\u001b[0m \u001b[1m0s\u001b[0m 54ms/step\n",
      "\u001b[1m1/1\u001b[0m \u001b[32m━━━━━━━━━━━━━━━━━━━━\u001b[0m\u001b[37m\u001b[0m \u001b[1m0s\u001b[0m 54ms/step\n",
      "\u001b[1m1/1\u001b[0m \u001b[32m━━━━━━━━━━━━━━━━━━━━\u001b[0m\u001b[37m\u001b[0m \u001b[1m0s\u001b[0m 54ms/step\n",
      "\u001b[1m1/1\u001b[0m \u001b[32m━━━━━━━━━━━━━━━━━━━━\u001b[0m\u001b[37m\u001b[0m \u001b[1m0s\u001b[0m 54ms/step\n",
      "\u001b[1m1/1\u001b[0m \u001b[32m━━━━━━━━━━━━━━━━━━━━\u001b[0m\u001b[37m\u001b[0m \u001b[1m0s\u001b[0m 54ms/step\n",
      "\u001b[1m1/1\u001b[0m \u001b[32m━━━━━━━━━━━━━━━━━━━━\u001b[0m\u001b[37m\u001b[0m \u001b[1m0s\u001b[0m 54ms/step\n",
      "\u001b[1m1/1\u001b[0m \u001b[32m━━━━━━━━━━━━━━━━━━━━\u001b[0m\u001b[37m\u001b[0m \u001b[1m0s\u001b[0m 54ms/step\n",
      "\u001b[1m1/1\u001b[0m \u001b[32m━━━━━━━━━━━━━━━━━━━━\u001b[0m\u001b[37m\u001b[0m \u001b[1m0s\u001b[0m 55ms/step\n",
      "\u001b[1m1/1\u001b[0m \u001b[32m━━━━━━━━━━━━━━━━━━━━\u001b[0m\u001b[37m\u001b[0m \u001b[1m0s\u001b[0m 53ms/step\n",
      "\u001b[1m1/1\u001b[0m \u001b[32m━━━━━━━━━━━━━━━━━━━━\u001b[0m\u001b[37m\u001b[0m \u001b[1m0s\u001b[0m 54ms/step\n",
      "\u001b[1m1/1\u001b[0m \u001b[32m━━━━━━━━━━━━━━━━━━━━\u001b[0m\u001b[37m\u001b[0m \u001b[1m0s\u001b[0m 55ms/step\n",
      "\u001b[1m1/1\u001b[0m \u001b[32m━━━━━━━━━━━━━━━━━━━━\u001b[0m\u001b[37m\u001b[0m \u001b[1m0s\u001b[0m 53ms/step\n",
      "\u001b[1m1/1\u001b[0m \u001b[32m━━━━━━━━━━━━━━━━━━━━\u001b[0m\u001b[37m\u001b[0m \u001b[1m0s\u001b[0m 54ms/step\n",
      "\u001b[1m1/1\u001b[0m \u001b[32m━━━━━━━━━━━━━━━━━━━━\u001b[0m\u001b[37m\u001b[0m \u001b[1m0s\u001b[0m 53ms/step\n",
      "\u001b[1m1/1\u001b[0m \u001b[32m━━━━━━━━━━━━━━━━━━━━\u001b[0m\u001b[37m\u001b[0m \u001b[1m0s\u001b[0m 53ms/step\n",
      "\u001b[1m1/1\u001b[0m \u001b[32m━━━━━━━━━━━━━━━━━━━━\u001b[0m\u001b[37m\u001b[0m \u001b[1m0s\u001b[0m 54ms/step\n",
      "\u001b[1m1/1\u001b[0m \u001b[32m━━━━━━━━━━━━━━━━━━━━\u001b[0m\u001b[37m\u001b[0m \u001b[1m0s\u001b[0m 54ms/step\n",
      "\u001b[1m1/1\u001b[0m \u001b[32m━━━━━━━━━━━━━━━━━━━━\u001b[0m\u001b[37m\u001b[0m \u001b[1m0s\u001b[0m 53ms/step\n",
      "\u001b[1m1/1\u001b[0m \u001b[32m━━━━━━━━━━━━━━━━━━━━\u001b[0m\u001b[37m\u001b[0m \u001b[1m0s\u001b[0m 53ms/step\n",
      "\u001b[1m1/1\u001b[0m \u001b[32m━━━━━━━━━━━━━━━━━━━━\u001b[0m\u001b[37m\u001b[0m \u001b[1m0s\u001b[0m 35ms/step\n"
     ]
    },
    {
     "name": "stderr",
     "output_type": "stream",
     "text": [
      "2025-06-10 22:48:54.899190: I tensorflow/core/framework/local_rendezvous.cc:407] Local rendezvous is aborting with status: OUT_OF_RANGE: End of sequence\n"
     ]
    },
    {
     "data": {
      "text/plain": [
       "<Figure size 1000x800 with 0 Axes>"
      ]
     },
     "metadata": {},
     "output_type": "display_data"
    },
    {
     "data": {
      "image/png": "[encoded data removed]",
      "text/plain": [
       "<Figure size 640x480 with 2 Axes>"
      ]
     },
     "metadata": {},
     "output_type": "display_data"
    },
    {
     "ename": "",
     "evalue": "",
     "output_type": "error",
     "traceback": [
      "\u001b[1;31mThe Kernel crashed while executing code in the current cell or a previous cell. \n",
      "\u001b[1;31mPlease review the code in the cell(s) to identify a possible cause of the failure. \n",
      "\u001b[1;31mClick <a href='https://aka.ms/vscodeJupyterKernelCrash'>here</a> for more info. \n",
      "\u001b[1;31mView Jupyter <a href='command:jupyter.viewOutput'>log</a> for further details."
     ]
    }
   ],
   "source": [
    "import numpy as np\n",
    "from sklearn.metrics import confusion_matrix, ConfusionMatrixDisplay\n",
    "import matplotlib.pyplot as plt\n",
    "\n",
    "# Obter predições no test_dataset\n",
    "y_true = []\n",
    "y_pred = []\n",
    "\n",
    "for images, labels in test_dataset:\n",
    "    preds = model.predict(images)\n",
    "    y_true.extend(np.argmax(labels.numpy(), axis=1))\n",
    "    y_pred.extend(np.argmax(preds, axis=1))\n",
    "\n",
    "class_names = test_dataset.class_names  \n",
    "\n",
    "# Criar e mostrar a matriz de confusão\n",
    "cm = confusion_matrix(y_true, y_pred)\n",
    "disp = ConfusionMatrixDisplay(confusion_matrix=cm, display_labels=class_names)\n",
    "\n",
    "plt.figure(figsize=(10, 8))\n",
    "disp.plot(cmap=plt.cm.Blues, xticks_rotation=45, values_format='d')\n",
    "plt.title(\"Matriz de Confusão - Teste\")\n",
    "plt.tight_layout()\n",
    "plt.show()"
   ]
  },
  {
   "cell_type": "markdown",
   "id": "2eeafdb8",
   "metadata": {},
   "source": [
    "A matriz de confusão mostra melhor desempenho geral, com classes \"vasc\", \"bkl\" e \"nv\" muito bem classificadas. Algumas confusões persistem entre lesões visualmente semelhantes, como \"akiec\" e \"bcc\""
   ]
  },
  {
   "cell_type": "markdown",
   "id": "a1aebe90-c8e6-4b41-9dd6-a2a6e835add7",
   "metadata": {},
   "source": [
    "## Salvar o modelo "
   ]
  },
  {
   "cell_type": "code",
   "execution_count": 29,
   "id": "e7b6fc6b-8055-4f3c-b062-dc111b741996",
   "metadata": {},
   "outputs": [],
   "source": [
    "model.save(\"modelS_2B1_com_data_aug_adam_KLD.keras\")"
   ]
  }
 ],
 "metadata": {
  "kernelspec": {
   "display_name": "Python 3 (ipykernel)",
   "language": "python",
   "name": "python3"
  },
  "language_info": {
   "codemirror_mode": {
    "name": "ipython",
    "version": 3
   },
   "file_extension": ".py",
   "mimetype": "text/x-python",
   "name": "python",
   "nbconvert_exporter": "python",
   "pygments_lexer": "ipython3",
   "version": "3.12.7"
  }
 },
 "nbformat": 4,
 "nbformat_minor": 5
}
